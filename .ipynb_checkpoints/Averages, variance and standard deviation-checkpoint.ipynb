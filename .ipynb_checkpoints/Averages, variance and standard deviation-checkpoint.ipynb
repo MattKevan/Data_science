{
 "cells": [
  {
   "cell_type": "markdown",
   "id": "7b7b9635-d105-49ad-bf45-065db16066ee",
   "metadata": {},
   "source": [
    "# Mean, median, mode, variance and standard deviation"
   ]
  },
  {
   "cell_type": "code",
   "execution_count": 16,
   "id": "3f0fd2fe-44af-44d7-8251-dd831d6f1126",
   "metadata": {},
   "outputs": [],
   "source": [
    "# Import packages\n",
    "import numpy as np\n",
    "import pandas as pd\n",
    "from scipy import stats"
   ]
  },
  {
   "cell_type": "markdown",
   "id": "7b546c61-9c18-485f-a494-61890d3821cf",
   "metadata": {},
   "source": [
    "## Mean\n",
    "\n",
    "The mean, or the average, measures the centre of a dataset. Find the average by adding all of the observations together and dividing by the total number of observations."
   ]
  },
  {
   "cell_type": "code",
   "execution_count": 23,
   "id": "a2726991-99f9-4937-876e-5ae759732851",
   "metadata": {},
   "outputs": [
    {
     "name": "stdout",
     "output_type": "stream",
     "text": [
      "10.0\n"
     ]
    }
   ],
   "source": [
    "# Mean in NumPy\n",
    "\n",
    "example_array = np.array([24, 16, 30, 10, 12, 28, 38, 2, 4, 36])\n",
    "example_average = np.average(example_array)\n",
    "print(example_average)"
   ]
  },
  {
   "cell_type": "markdown",
   "id": "a4f94ee5-3cc3-4fcc-aeac-44f4bba8c829",
   "metadata": {},
   "source": [
    "## Median\n",
    "\n",
    "The median is the middle value in a dataset, assuming the values are ordered from smallest to largest.\n",
    "\n",
    "Find the median by ordering the values in the dataset from smallest to largest and finding the middle number. If the dataset has an even number of values, the middle two numbers will be the median."
   ]
  },
  {
   "cell_type": "code",
   "execution_count": 24,
   "id": "4f3a8769-f526-48dc-a27f-2fca9ec2e8e6",
   "metadata": {},
   "outputs": [
    {
     "name": "stdout",
     "output_type": "stream",
     "text": [
      "10.0\n"
     ]
    }
   ],
   "source": [
    "# Median in NumPy\n",
    "\n",
    "example_array = np.array([24, 16, 30, 10, 12, 28, 38, 2, 4, 36, 42])\n",
    "example_median = np.median(example_array)\n",
    "print(example_median)"
   ]
  },
  {
   "cell_type": "markdown",
   "id": "35af50e0-30fb-4a7e-b42e-e4fbf918bfe6",
   "metadata": {},
   "source": [
    "## Mode\n",
    "\n",
    "The mode is the most frequently occurring observation in the dataset. A dataset can have multiple modes if there is more than one value with the same maximum frequency.\n",
    "\n",
    "The mode ismode may not always be a great measure of where the data is centered. Simply put, mode is a measure of the most frequent observation in the dataset, and is not an indication of the tallest bin in a histogram."
   ]
  },
  {
   "cell_type": "code",
   "execution_count": 25,
   "id": "63bb5992-78e2-4880-8bcf-8b73d11ccafb",
   "metadata": {},
   "outputs": [
    {
     "name": "stdout",
     "output_type": "stream",
     "text": [
      "ModeResult(mode=array([10]), count=array([2]))\n",
      "Mode value is: 10\n",
      "Mode value count is: 2\n"
     ]
    },
    {
     "name": "stderr",
     "output_type": "stream",
     "text": [
      "/var/folders/hq/7z7cwmwx4tvfj163r0qbcgkr0000gp/T/ipykernel_53044/3769650713.py:4: FutureWarning: Unlike other reduction functions (e.g. `skew`, `kurtosis`), the default behavior of `mode` typically preserves the axis it acts along. In SciPy 1.11.0, this behavior will change: the default value of `keepdims` will become False, the `axis` over which the statistic is taken will be eliminated, and the value None will no longer be accepted. Set `keepdims` to True or False to avoid this warning.\n",
      "  example_mode = stats.mode(example_array)\n"
     ]
    }
   ],
   "source": [
    "# Mode in SciPy\n",
    "\n",
    "example_array = np.array([15,8,9,15,12,13,2,15,13,8,13,6,7])\n",
    "example_mode = stats.mode(example_array)\n",
    "\n",
    "print(example_mode) # Returns an object containing mode value and its count\n",
    "\n",
    "# Accessing the individual values\n",
    "print('Mode value is: '+ str(example_mode[0][0]))\n",
    "print('Mode value count is: '+ str(example_mode[1][0]))"
   ]
  },
  {
   "cell_type": "markdown",
   "id": "f7b46fc7-537b-43c8-b92d-0db0efc3373c",
   "metadata": {},
   "source": [
    "# Variance\n",
    "\n",
    "Finding the mean, mode and median of a dataset is a good way to start understanding the shape of your data. "
   ]
  },
  {
   "cell_type": "code",
   "execution_count": null,
   "id": "5e5c606e-6d7f-4b44-b611-3b91d61bcaed",
   "metadata": {},
   "outputs": [],
   "source": [
    "dataset_one = [-4, -2, 0, 2, 4]\n",
    "dataset_two = [-400, -200, 0, 200, 400]"
   ]
  },
  {
   "cell_type": "markdown",
   "id": "960d2891-54c2-4abd-9f90-c961df9f8602",
   "metadata": {},
   "source": [
    "However, in the datasets above, the mean and median both equal zero. If we only reported those stats, we'd not be communicating any meaningful difference between them. \n",
    "\n",
    "Variance is a descriptive statistic that describe how spread out points in a dataset are and can be calculated by finding the difference between every datapoint in the set and the mean. If the data is close together, then each data point will tend to be close to the mean, and the difference will be small. If the data is spread out, the difference between every data point and the mean will be larger.\n",
    "\n",
    "This can be written as difference = (X−μ)² , where X is a datapoint and mu is the mean.\n",
    "\n",
    "To work out the variance, the difference is averaged (sum of variance for each datapoint divided by no. of datapoints).\n",
    "\n",
    "The result of X−μ is squared as it removes negative numbers. If the result wasn't squared, the variance for both datasets above would be 0 as the negative and positive numbers cancel each other out. Squared, the sum of differences is 40.8 and the variance is 8.16.\n",
    "\n",
    "<img src=\"Assets/Variance equation.png\">\n",
    "\n",
    "Sigma squared σ² represents variance. ∑ represents 'the sum of'.\n",
    "\n",
    "For each datapoint in the dataset, from point 1 to point N (the last datapoint), find the difference between that point and the mean. Square each difference to make them all positive. Average the squared differences together and dividing by N, the total number of points in the dataset."
   ]
  },
  {
   "cell_type": "code",
   "execution_count": 27,
   "id": "5fc1a597-2404-4d0f-909c-374d6d4c206f",
   "metadata": {},
   "outputs": [
    {
     "data": {
      "text/plain": [
       "338.8"
      ]
     },
     "execution_count": 27,
     "metadata": {},
     "output_type": "execute_result"
    }
   ],
   "source": [
    "# Variance in NumPy\n",
    "\n",
    "dataset = [3, 5, -2, 49, 10]\n",
    "variance = np.var(dataset)\n",
    "variance"
   ]
  },
  {
   "cell_type": "markdown",
   "id": "b528b739-1960-4163-b5f6-f5673a97321f",
   "metadata": {},
   "source": [
    "# Standard deviation\n",
    "\n",
    "Variance is a difficult statistic to use as the formula includes squaring the difference between the data and the mean. The result is that the variance is measured in different units to the mean and the data itself, making it hard to interpret the results in context.\n",
    "\n",
    "Standard deviation is useful as it takes the square root of the variance, returning the variance to the same units.\n",
    "\n",
    "<img src=\"Assets/standard-deviation.png\">\n",
    "\n",
    "Sigma σ represents variance."
   ]
  },
  {
   "cell_type": "code",
   "execution_count": 28,
   "id": "0dbfea70-30bd-48b3-ba16-93aaf4c9ea68",
   "metadata": {},
   "outputs": [
    {
     "data": {
      "text/plain": [
       "12.315302134607444"
      ]
     },
     "execution_count": 28,
     "metadata": {},
     "output_type": "execute_result"
    }
   ],
   "source": [
    "# Standard deviation in NumPy\n",
    "\n",
    "dataset = [4, 8, 15, 16, 23, 42]\n",
    "standard_deviation = np.std(dataset)\n",
    "standard_deviation"
   ]
  },
  {
   "cell_type": "markdown",
   "id": "3c9bfa66-9587-443b-b428-0fff5e6225de",
   "metadata": {},
   "source": [
    "By finding the number of standard deviations a datapoint is away from the mean we can begin to see how unusual it is. 65% of the data will generally be within 1 standard deviation of mean, 95% will fall within 2 standard deviations and 99.7% will fall within 3.\n",
    "\n"
   ]
  },
  {
   "cell_type": "code",
   "execution_count": 29,
   "id": "dc7ce80e-886e-4e16-923d-2f83347e7257",
   "metadata": {},
   "outputs": [
    {
     "data": {
      "text/plain": [
       "1.9487950630587603"
      ]
     },
     "execution_count": 29,
     "metadata": {},
     "output_type": "execute_result"
    }
   ],
   "source": [
    "# Using standard deviation\n",
    "\n",
    "dataset_mean = np.average(dataset)\n",
    "\n",
    "# Calculate difference between datapoint and mean\n",
    "\n",
    "difference = 42 - dataset_mean\n",
    "\n",
    "# Use the difference between the point and the mean to find how many standard deviations it is from the mean\n",
    "num_deviations = difference / standard_deviation\n",
    "\n",
    "num_deviations"
   ]
  },
  {
   "cell_type": "code",
   "execution_count": null,
   "id": "b0a5994f-1fe4-4f94-a58f-2f293cb021d3",
   "metadata": {},
   "outputs": [],
   "source": []
  }
 ],
 "metadata": {
  "kernelspec": {
   "display_name": "Python 3 (ipykernel)",
   "language": "python",
   "name": "python3"
  },
  "language_info": {
   "codemirror_mode": {
    "name": "ipython",
    "version": 3
   },
   "file_extension": ".py",
   "mimetype": "text/x-python",
   "name": "python",
   "nbconvert_exporter": "python",
   "pygments_lexer": "ipython3",
   "version": "3.9.12"
  }
 },
 "nbformat": 4,
 "nbformat_minor": 5
}
