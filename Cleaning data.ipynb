{
 "cells": [
  {
   "cell_type": "markdown",
   "id": "374a13e7-25d2-4635-8899-22c3ba345898",
   "metadata": {},
   "source": [
    "# Cleaning data\n",
    "\n",
    "'Tidy data' is easy to analyse and visualise.\n",
    "\n",
    "For data to be tidy, it must have:\n",
    "\n",
    "* Each variable as a separate column\n",
    "* Each row as a separate observation\n",
    "\n",
    "Explore dataset:\n",
    "\n",
    "* head() — display the first 5 rows of the table\n",
    "* info() — display a summary of the table\n",
    "* describe() — display the summary statistics of the table\n",
    "* columns — display the column names of the table\n",
    "* value_counts() — display the distinct values for a column"
   ]
  },
  {
   "cell_type": "markdown",
   "id": "75e451c3-8a16-4541-8975-ef7d9f105f04",
   "metadata": {},
   "source": [
    "## Multiple files with glob \n",
    "\n",
    "glob can open multiple files by using regex matching to get the filenames."
   ]
  },
  {
   "cell_type": "code",
   "execution_count": null,
   "id": "f83260ed-0c34-4f67-834a-188d27285a4e",
   "metadata": {},
   "outputs": [],
   "source": [
    "import glob\n",
    "\n",
    "files = glob.glob(\"file*.csv\")\n",
    "\n",
    "df_list = []\n",
    "for filename in files:\n",
    "  data = pd.read_csv(filename)\n",
    "  df_list.append(data)\n",
    "\n",
    "df = pd.concat(df_list)\n",
    "\n",
    "print(files)"
   ]
  },
  {
   "cell_type": "markdown",
   "id": "2d010eb2-9778-4de8-9d95-fd08c5471a9a",
   "metadata": {},
   "source": [
    "This code goes through any file that starts with 'file' and has an extension of .csv. It opens each file, reads the data into a DataFrame, and then concatenates all of those DataFrames together."
   ]
  },
  {
   "cell_type": "markdown",
   "id": "e59d19ab-15ab-4e15-a8e4-06392e41b052",
   "metadata": {},
   "source": [
    "## String parsing \n",
    "\n",
    "Cleaning data with regex\n",
    "\n",
    "### String replacement"
   ]
  },
  {
   "cell_type": "code",
   "execution_count": null,
   "id": "34dcd99a-2e99-47ab-8eb3-ad5c86d707d2",
   "metadata": {},
   "outputs": [],
   "source": [
    "fruit.price = fruit['price'].replace('[\\$,]', '', regex=True)\n",
    "# Removes the $"
   ]
  },
  {
   "cell_type": "markdown",
   "id": "af87d2c7-0bd1-4307-a1eb-d829adefd421",
   "metadata": {},
   "source": [
    "### String split"
   ]
  },
  {
   "cell_type": "code",
   "execution_count": null,
   "id": "ea6cd5f6-b497-4f3f-926c-9131bac6d174",
   "metadata": {},
   "outputs": [],
   "source": [
    "split_df = df['exerciseDescription'].str.split('(\\d+)', expand=True)\n",
    "\n",
    "# Splits out the digits e.g. 'lunges - 30 reps' into 3 separate columns 'lunges - ', '30', ' reps'\n",
    "# Saves it into a separate dataframe"
   ]
  },
  {
   "cell_type": "code",
   "execution_count": null,
   "id": "f090080b-d1e1-47ef-938d-82a04707ce00",
   "metadata": {},
   "outputs": [],
   "source": [
    "df.reps = pd.to_numeric(split_df[1])\n",
    "df.exercise = split_df[0].replace('[\\- ]', '', regex=True)\n",
    "\n",
    "# Converts the number to numeric type, adds the reps and excercise columns back into the main dataframe\n",
    "# Removes unwanted charaters from the excercise column "
   ]
  },
  {
   "cell_type": "markdown",
   "id": "4bb1f48f-fef4-4264-a489-bc18301c7540",
   "metadata": {},
   "source": [
    "## Converting data types"
   ]
  },
  {
   "cell_type": "code",
   "execution_count": null,
   "id": "cb0cf6f7-8188-4888-bdfe-f3dec98300f7",
   "metadata": {},
   "outputs": [],
   "source": [
    "fruit.price = pd.to_numeric(fruit.price)\n",
    "# Converts to number type"
   ]
  },
  {
   "cell_type": "markdown",
   "id": "69d782bf-d880-4a29-83e4-893a51ee7b7b",
   "metadata": {},
   "source": [
    "## Dropping or filling rows with missing data"
   ]
  },
  {
   "cell_type": "code",
   "execution_count": null,
   "id": "da342631-0fb7-4a0a-af47-c25b94182133",
   "metadata": {},
   "outputs": [],
   "source": [
    "# Drop rows with a missing value\n",
    "bill_df = bill_df.dropna()\n",
    "\n",
    "bill_df = bill_df.dropna(subset=['num_guests'])\n",
    "# Drop rows with missing values in a particular column"
   ]
  },
  {
   "cell_type": "code",
   "execution_count": null,
   "id": "0b691f17-1a3a-4c80-9945-3ac71485d582",
   "metadata": {},
   "outputs": [],
   "source": [
    "bill_df = bill_df.fillna(value={\"bill\":0})\n",
    "# Fills missing values in bill with 0\n",
    "\n",
    "students.score = students.score.fillna(0)\n",
    "\n",
    "bill_df = bill_df.fillna(value={\"bill\":bill_df.bill.mean()})\n",
    "# Fills missing values in the bill column with the average of the bill column."
   ]
  },
  {
   "cell_type": "code",
   "execution_count": null,
   "id": "7a1ba005-0f18-4588-919e-c1ce9160e2d1",
   "metadata": {},
   "outputs": [],
   "source": []
  },
  {
   "cell_type": "code",
   "execution_count": null,
   "id": "485cbec9-0517-4324-bafe-fa7b47ca9b83",
   "metadata": {},
   "outputs": [],
   "source": []
  }
 ],
 "metadata": {
  "kernelspec": {
   "display_name": "Python 3 (ipykernel)",
   "language": "python",
   "name": "python3"
  },
  "language_info": {
   "codemirror_mode": {
    "name": "ipython",
    "version": 3
   },
   "file_extension": ".py",
   "mimetype": "text/x-python",
   "name": "python",
   "nbconvert_exporter": "python",
   "pygments_lexer": "ipython3",
   "version": "3.9.12"
  }
 },
 "nbformat": 4,
 "nbformat_minor": 5
}
