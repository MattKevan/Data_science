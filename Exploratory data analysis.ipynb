{
 "cells": [
  {
   "cell_type": "markdown",
   "id": "96866ccc-6b37-43a2-af59-c95d524877da",
   "metadata": {},
   "source": [
    "# Exploratory data analysis (EDA)\n",
    "\n",
    "EDA is the first step towards analysis and model building – finding out what's there and what patterns and relationships there may be. Can help to form questions and areas of exploration.\n",
    "\n",
    "Goals:\n",
    "* Uncover the structure of the data and how it's coded\n",
    "* Get to know the data by summarising and visualising it\n",
    "* Find outliers, missing data and other issues, deciding how or whether to address them\n",
    "* Find new areas of exploration or analysis\n",
    "* Prepare for model building by checking assumptions, selecting features and choosing the best method.\n",
    "\n",
    "Techniques: \n",
    "* Data inspection – looking at the variable types\n",
    "* Numerical summarisation – su\n",
    "* Visualisation\n",
    "\n",
    "## Variables\n",
    "\n",
    "Variables are categorical or numerical. Numerical variables are measured and categorical variables are classified by their type. In a dataframe or spreadsheet table, observations are the rows, the variables are the columns and the individual cells are the values.\n",
    "\n",
    "### Categorical variables\n",
    "\n",
    "#### Nominal variables\n",
    "These describe something about the world and are s\n",
    "* Ordinal variables, which have an inherent ranking\n",
    "* Binary variables, which have only two possible variations."
   ]
  },
  {
   "cell_type": "code",
   "execution_count": null,
   "id": "a859b204-3dd5-4e39-bf5b-e2af365880b8",
   "metadata": {},
   "outputs": [],
   "source": []
  }
 ],
 "metadata": {
  "kernelspec": {
   "display_name": "Python 3 (ipykernel)",
   "language": "python",
   "name": "python3"
  },
  "language_info": {
   "codemirror_mode": {
    "name": "ipython",
    "version": 3
   },
   "file_extension": ".py",
   "mimetype": "text/x-python",
   "name": "python",
   "nbconvert_exporter": "python",
   "pygments_lexer": "ipython3",
   "version": "3.9.12"
  }
 },
 "nbformat": 4,
 "nbformat_minor": 5
}
