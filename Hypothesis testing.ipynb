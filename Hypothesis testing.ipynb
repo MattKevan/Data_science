{
 "cells": [
  {
   "cell_type": "code",
   "execution_count": null,
   "id": "831817a9-ed08-4c8f-9846-8d05780f23da",
   "metadata": {},
   "outputs": [],
   "source": [
    "from scipy.stats import f_oneway\n",
    "import pandas as pd\n",
    "from scipy.stats import f_oneway\n",
    "from statsmodels.stats.multicomp \n",
    "import pairwise_tukeyhsd"
   ]
  },
  {
   "cell_type": "markdown",
   "id": "5be30590-2e5f-4902-9095-43b0218d69ef",
   "metadata": {},
   "source": [
    "# Hypothesis testing\n",
    "\n",
    "## T Tests\n",
    "\n",
    "Results under 0.05 are statistically significant."
   ]
  },
  {
   "cell_type": "code",
   "execution_count": null,
   "id": "e4eea8ee-4f99-4cce-bf98-8e9035b575ee",
   "metadata": {},
   "outputs": [],
   "source": [
    "a_b_tval, a_b_pval = ttest_ind(a,b)\n",
    "print(a_b_pval)"
   ]
  },
  {
   "cell_type": "markdown",
   "id": "9f14e01d-c73b-48fa-b708-ddae6ffe9d8a",
   "metadata": {},
   "source": [
    "## ANOVA (Analysis of variance).\n",
    "\n",
    "ANOVA tests the null hypothesis that all groups have the same population mean. Results under 0.05 are statistically significant."
   ]
  },
  {
   "cell_type": "code",
   "execution_count": null,
   "id": "2e53121b-9ca1-4b19-aa91-935be0823705",
   "metadata": {},
   "outputs": [],
   "source": [
    "fstat, pval = f_oneway(a, b, c)\n",
    "print(pval)"
   ]
  },
  {
   "cell_type": "markdown",
   "id": "f41d67fd-78d0-4c1c-a2d9-bc33d28989ef",
   "metadata": {},
   "source": [
    "## Tukeys range test\n",
    "\n",
    "Run a Tukey test with an error rate of 0.05. Significant results will be marked as true in the results.\n"
   ]
  },
  {
   "cell_type": "code",
   "execution_count": null,
   "id": "644f0334-b20c-49b6-811c-bb3f387a68ff",
   "metadata": {},
   "outputs": [],
   "source": [
    "tukey_results = pairwise_tukeyhsd(data.col_a, data.col_b, 0.05)\n",
    "print(tukey_results)\n"
   ]
  },
  {
   "cell_type": "markdown",
   "id": "b4f6652a-8634-4deb-96ba-203928da22c1",
   "metadata": {},
   "source": [
    "1. The observations should be independently randomly sampled from the population\n",
    "\n",
    "Ranndom sampling will help ensure that our sample is representative of the population we care about.\n",
    "\n",
    "2. The standard deviations of the groups should be equal\n",
    "\n",
    "For example, if we’re comparing time spent on a website for two versions of a homepage, we first want to make sure that the standard deviation of time spent on version 1 is roughly equal to the standard deviation of time spent on version 2. To check this assumption, it is normally sufficient to divide one standard deviation by the other and see if the ratio is “close” to 1. Generally, a ratio between 0.9 and 1.1 should suffice.\n",
    "\n",
    "That said, there is also a way to run a 2-sample t-test without assuming equal standard deviations — for example, by setting the equal_var parameter in the scipy.stats.ttest_ind() function equal to False. Running the test in this way has some disadvantages (it essentially makes it harder to reject the null hypothesis even when there is a true difference between groups), so it’s important to check for equal standard deviations before running the test.\n",
    "\n",
    "3. The data should be normally distributed…ish\n",
    "\n",
    "Data analysts in the real world often still perform these tests on data that are not normally distributed. This is usually not a problem if sample size is large, but it depends on how non-normal the data is. In general, the bigger the sample size, the safer you are!\n",
    "\n",
    "4. The groups created by the categorical variable must be independent\n",
    "\n",
    "Here are some examples where the groups are not independent:\n",
    "\n",
    "the number of goals scored per soccer player before, during, and after undergoing a rigorous training regimen (not independent because the same players are measured in each category)\n",
    "years of schooling completed by a group of adults compared to their parents (not independent because kids and their parents can influence one another)"
   ]
  },
  {
   "cell_type": "markdown",
   "id": "b5132ac3-fb41-4756-be73-73c74fac0986",
   "metadata": {},
   "source": [
    "### Chi-square test \n",
    "\n",
    "An A/B test where half of users were shown a green submit button and the other half were shown a purple submit button. Was one group more likely to click the submit button?\n",
    "People under and over age 40 were given a survey asking “Which of the following three products is your favorite?” Did these age groups have significantly different preferences?\n",
    "\n",
    "1. The observations should be independently randomly sampled from the population\n",
    "\n",
    "This is also true of 2-sample t-tests, ANOVA, and Tukey. The purpose of this assumption is to ensure that the sample is representative of the population of interest.\n",
    "\n",
    "2. The categories of both variables must be mutually exclusive\n",
    "\n",
    "In other words, individual observations should only fall into one category per variable. This means that categorical variables like “college major”, where students can have multiple different college majors, would not be appropriate for a Chi-Square test.\n",
    "\n",
    "3. The groups should be independent\n",
    "\n",
    "Similar to 2-sample t-tests, ANOVA, and Tukey, a Chi-Square test also shouldn’t be used if either of the categorical variables splits observations into groups that can influence one another. For example, a Chi-Square test would not be appropriate if one of the variables represents three different time points."
   ]
  },
  {
   "cell_type": "code",
   "execution_count": null,
   "id": "4317a425-0704-443c-8600-4381bf84bfb7",
   "metadata": {},
   "outputs": [],
   "source": [
    "from scipy.stats import chi2_contingency\n",
    "\n",
    "table = pd.crosstab(variable_1, variable_2)\n",
    "chi2, pval, dof, expected = chi2_contingency(table)"
   ]
  }
 ],
 "metadata": {
  "kernelspec": {
   "display_name": "Python 3 (ipykernel)",
   "language": "python",
   "name": "python3"
  },
  "language_info": {
   "codemirror_mode": {
    "name": "ipython",
    "version": 3
   },
   "file_extension": ".py",
   "mimetype": "text/x-python",
   "name": "python",
   "nbconvert_exporter": "python",
   "pygments_lexer": "ipython3",
   "version": "3.9.12"
  }
 },
 "nbformat": 4,
 "nbformat_minor": 5
}
