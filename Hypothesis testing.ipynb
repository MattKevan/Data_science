{
 "cells": [
  {
   "cell_type": "code",
   "execution_count": null,
   "id": "831817a9-ed08-4c8f-9846-8d05780f23da",
   "metadata": {},
   "outputs": [],
   "source": [
    "from scipy.stats import f_oneway\n",
    "import pandas as pd\n",
    "from scipy.stats import f_oneway\n",
    "from statsmodels.stats.multicomp \n",
    "import pairwise_tukeyhsd"
   ]
  },
  {
   "cell_type": "markdown",
   "id": "5be30590-2e5f-4902-9095-43b0218d69ef",
   "metadata": {},
   "source": [
    "# Hypothesis testing\n",
    "\n",
    "## T Tests\n",
    "\n",
    "Results under 0.05 are statistically significant."
   ]
  },
  {
   "cell_type": "markdown",
   "id": "da0fc776-8743-4708-90cf-66b0fa27abf9",
   "metadata": {},
   "source": [
    "#### One sample t-tests \n",
    "\n",
    "Suppose we want to compare exam scores for students who attended a test prep program to the global average score of 35 points. Do students who attend this program score higher than 35 points? The global average is the hypothesized population value and the average of the exam scores of students who attended the program is the sample statistic (in this case, sample mean).\n",
    "\n",
    "Below is the code to run a one-sample t-test to address the above question. In this example the alternative hypothesis is that the sample mean is significantly different than 35, and the null hypothesis is that the sample mean is 35."
   ]
  },
  {
   "cell_type": "code",
   "execution_count": null,
   "id": "34ec209c-5bf8-4dbd-b165-facca2364acb",
   "metadata": {},
   "outputs": [],
   "source": [
    "from scipy.stats import ttest_1samp\n",
    "\n",
    "global_average_score = 35\n",
    "sample_scores = [12, 42, 37, 18, 23, 39, 45, … , 52]\n",
    "\n",
    "t_stat, p_value = ttest_1samp(sample_scores, global_average_score)"
   ]
  },
  {
   "cell_type": "markdown",
   "id": "ce528bdf-9182-4e55-b9af-543c220eae6c",
   "metadata": {},
   "source": [
    "####  Two-sample t-test\n",
    "A two-sample t-test is used to investigate an association between a quantitative variable and a binary categorical variable. For example, suppose we want to test if there is an association between claw size (quantitative) and species: black or grizzly bear (binary categorical). To answer this question, we could sample a selection of black bears and grizzly bears, then calculate the average claw size for each species. Then, we can use a two-sample t-test to determine the probability that the claw sizes for these two species are significantly different (among the entire population of black and grizzly bears). \n",
    "\n",
    "Other examples of two-sample t-tests include studies like drug trials or psychology studies with a control and experimental group or A/B Testing with quantitative data like “time spent on a website”."
   ]
  },
  {
   "cell_type": "code",
   "execution_count": null,
   "id": "e4eea8ee-4f99-4cce-bf98-8e9035b575ee",
   "metadata": {},
   "outputs": [],
   "source": [
    "a_b_tval, a_b_pval = ttest_ind(a,b)\n",
    "print(a_b_pval)"
   ]
  },
  {
   "cell_type": "code",
   "execution_count": null,
   "id": "e19b3fb8-7f89-49f6-a19e-dc4f993692a5",
   "metadata": {},
   "outputs": [],
   "source": [
    "from scipy.stats import ttest_ind\n",
    "\n",
    "#separate out claw lengths for two species\n",
    "grizzly_bear = data.claw_length[data.species=='grizzly']\n",
    "black_bear = data.claw_length[data.species=='black']\n",
    "\n",
    "#run the t-test here:\n",
    "tstat, pval = ttest_ind(grizzly_bear, black_bear)"
   ]
  },
  {
   "cell_type": "markdown",
   "id": "c4ca5516-59ca-452a-94a4-2010256e08f5",
   "metadata": {},
   "source": [
    "#### Binomial test\n",
    "If we instead have a sample of binary data and want to compare a sample proportion/frequency to an underlying probability (population value), a binomial test is appropriate. The classic example of a binomial test is tossing a coin to determine if it’s fair (fair means that the probability of either heads or tails is exactly 50%).\n",
    "\n",
    "For example, suppose that you collect sample data from a coin by tossing it 100 times, and find that 45 flips result in heads. Based on this sample, what is the probability that the coin is actually fair (if you flipped it infinitely many times, exactly half those flips would be heads)? The following code runs the binomial test to answer this question:"
   ]
  },
  {
   "cell_type": "code",
   "execution_count": 4,
   "id": "5d22fb92-d090-49c0-bcba-c11b92ca6cc3",
   "metadata": {},
   "outputs": [
    {
     "data": {
      "text/plain": [
       "BinomTestResult(k=45, n=100, alternative='two-sided', statistic=0.45, pvalue=0.36820161732669565)"
      ]
     },
     "execution_count": 4,
     "metadata": {},
     "output_type": "execute_result"
    }
   ],
   "source": [
    "from scipy.stats import binomtest\n",
    "\n",
    "p_value = binomtest(45, 100, p = 0.50)\n",
    "\n",
    "p_value"
   ]
  },
  {
   "cell_type": "markdown",
   "id": "3cf82fa5-f66e-41b0-8fd3-38abab998ff3",
   "metadata": {},
   "source": [
    "The alternative hypothesis for this test is that the probability is different than p = 0.50, and the null is that it is equal to 0.50.\n",
    "\n",
    "Here are some other examples of situations where a binomial test would be useful\n",
    "\n",
    "* Is the number of passengers who show up for a flight fewer than normal?\n",
    "* Is the open rate on a marketing email different from the company target?"
   ]
  },
  {
   "cell_type": "markdown",
   "id": "9f14e01d-c73b-48fa-b708-ddae6ffe9d8a",
   "metadata": {},
   "source": [
    "## ANOVA (Analysis of variance).\n",
    "\n",
    "ANOVA tests the null hypothesis that all groups have the same population mean. Results under 0.05 are statistically significant.\n",
    "\n",
    "In cases similar to the two-sample t-test, but when the categorical variable has three or more categories, an ANOVA can be used to see if there is a significant difference between any of the groups. Then, if at least one pair of groups are significantly different, Tukey’s range test can be used to determine which groups are different. This is better than running multiple two-sample t-tests because it leads to a lower probability of making a type I error.\n",
    "\n",
    "For example, if we want to compare the heights of three different tree species, in order to test the hypothesis that average tree heights vary by species, we can use an ANOVA. Then, if the p-value from the ANOVA is below our significance threshold, we can run Tukey’s range test to determine which tree species have significantly different heights."
   ]
  },
  {
   "cell_type": "code",
   "execution_count": null,
   "id": "2e53121b-9ca1-4b19-aa91-935be0823705",
   "metadata": {},
   "outputs": [],
   "source": [
    "fstat, pval = f_oneway(a, b, c)\n",
    "print(pval)"
   ]
  },
  {
   "cell_type": "code",
   "execution_count": null,
   "id": "d902adff-bc96-4b96-9e30-b688facd3c98",
   "metadata": {},
   "outputs": [],
   "source": [
    "# ANOVA Test\n",
    "from scipy.stats import f_oneway\n",
    "fstat, pval = f_oneway(heights_pine, heights_oak, heights_spruce)\n"
   ]
  },
  {
   "cell_type": "markdown",
   "id": "f41d67fd-78d0-4c1c-a2d9-bc33d28989ef",
   "metadata": {},
   "source": [
    "## Tukeys range test\n",
    "\n",
    "Run a Tukey test with an error rate of 0.05. Significant results will be marked as true in the results.\n"
   ]
  },
  {
   "cell_type": "code",
   "execution_count": null,
   "id": "dc8c86d7-0fd4-4261-8e1c-419be6ec3635",
   "metadata": {},
   "outputs": [],
   "source": [
    "# Tukey’s Range Test\n",
    "from statsmodels.stats.multicomp import pairwise_tukeyhsd\n",
    "\n",
    "tukey_results = pairwise_tukeyhsd(tree_data.height, tree_data.species, 0.05)"
   ]
  },
  {
   "cell_type": "code",
   "execution_count": null,
   "id": "644f0334-b20c-49b6-811c-bb3f387a68ff",
   "metadata": {},
   "outputs": [],
   "source": [
    "tukey_results = pairwise_tukeyhsd(data.col_a, data.col_b, 0.05)\n",
    "print(tukey_results)"
   ]
  },
  {
   "cell_type": "markdown",
   "id": "b4f6652a-8634-4deb-96ba-203928da22c1",
   "metadata": {},
   "source": [
    "1. The observations should be independently randomly sampled from the population\n",
    "\n",
    "Ranndom sampling will help ensure that our sample is representative of the population we care about.\n",
    "\n",
    "2. The standard deviations of the groups should be equal\n",
    "\n",
    "For example, if we’re comparing time spent on a website for two versions of a homepage, we first want to make sure that the standard deviation of time spent on version 1 is roughly equal to the standard deviation of time spent on version 2. To check this assumption, it is normally sufficient to divide one standard deviation by the other and see if the ratio is “close” to 1. Generally, a ratio between 0.9 and 1.1 should suffice.\n",
    "\n",
    "That said, there is also a way to run a 2-sample t-test without assuming equal standard deviations — for example, by setting the equal_var parameter in the scipy.stats.ttest_ind() function equal to False. Running the test in this way has some disadvantages (it essentially makes it harder to reject the null hypothesis even when there is a true difference between groups), so it’s important to check for equal standard deviations before running the test.\n",
    "\n",
    "3. The data should be normally distributed…ish\n",
    "\n",
    "Data analysts in the real world often still perform these tests on data that are not normally distributed. This is usually not a problem if sample size is large, but it depends on how non-normal the data is. In general, the bigger the sample size, the safer you are!\n",
    "\n",
    "4. The groups created by the categorical variable must be independent\n",
    "\n",
    "Here are some examples where the groups are not independent:\n",
    "\n",
    "the number of goals scored per soccer player before, during, and after undergoing a rigorous training regimen (not independent because the same players are measured in each category)\n",
    "years of schooling completed by a group of adults compared to their parents (not independent because kids and their parents can influence one another)"
   ]
  },
  {
   "cell_type": "markdown",
   "id": "b5132ac3-fb41-4756-be73-73c74fac0986",
   "metadata": {},
   "source": [
    "### Chi-square test \n",
    "\n",
    "An A/B test where half of users were shown a green submit button and the other half were shown a purple submit button. Was one group more likely to click the submit button?\n",
    "People under and over age 40 were given a survey asking “Which of the following three products is your favorite?” Did these age groups have significantly different preferences?\n",
    "\n",
    "1. The observations should be independently randomly sampled from the population\n",
    "\n",
    "This is also true of 2-sample t-tests, ANOVA, and Tukey. The purpose of this assumption is to ensure that the sample is representative of the population of interest.\n",
    "\n",
    "2. The categories of both variables must be mutually exclusive\n",
    "\n",
    "In other words, individual observations should only fall into one category per variable. This means that categorical variables like “college major”, where students can have multiple different college majors, would not be appropriate for a Chi-Square test.\n",
    "\n",
    "3. The groups should be independent\n",
    "\n",
    "Similar to 2-sample t-tests, ANOVA, and Tukey, a Chi-Square test also shouldn’t be used if either of the categorical variables splits observations into groups that can influence one another. For example, a Chi-Square test would not be appropriate if one of the variables represents three different time points."
   ]
  },
  {
   "cell_type": "code",
   "execution_count": null,
   "id": "4317a425-0704-443c-8600-4381bf84bfb7",
   "metadata": {},
   "outputs": [],
   "source": [
    "from scipy.stats import chi2_contingency\n",
    "\n",
    "table = pd.crosstab(variable_1, variable_2)\n",
    "chi2, pval, dof, expected = chi2_contingency(table)"
   ]
  },
  {
   "cell_type": "code",
   "execution_count": null,
   "id": "13bf7359-8b51-491a-b341-4ce723353f2e",
   "metadata": {},
   "outputs": [],
   "source": [
    "import pandas as pd\n",
    "from scipy.stats import chi2_contingency\n",
    "\n",
    "# create contingency table\n",
    "ab_contingency = pd.crosstab(data.Web_Version, data.Subscribed)\n",
    "\n",
    "# run a Chi-Square test\n",
    "chi2, pval, dof, expected = chi2_contingency(ab_contingency)"
   ]
  }
 ],
 "metadata": {
  "kernelspec": {
   "display_name": "Python 3 (ipykernel)",
   "language": "python",
   "name": "python3"
  },
  "language_info": {
   "codemirror_mode": {
    "name": "ipython",
    "version": 3
   },
   "file_extension": ".py",
   "mimetype": "text/x-python",
   "name": "python",
   "nbconvert_exporter": "python",
   "pygments_lexer": "ipython3",
   "version": "3.9.12"
  }
 },
 "nbformat": 4,
 "nbformat_minor": 5
}
