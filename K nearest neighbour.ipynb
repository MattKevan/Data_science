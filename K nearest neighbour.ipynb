{
 "cells": [
  {
   "cell_type": "markdown",
   "id": "d1fe408c-29c3-4041-9dae-b5fd8226f07e",
   "metadata": {},
   "source": [
    "# K nearest neighbour\n",
    "\n",
    "### Distance Between Points - 3D\n",
    "Making a movie rating predictor based on just the length and release date of movies is pretty limited. There are so many more interesting pieces of data about movies that we could use! So let’s add another dimension.\n",
    "\n",
    "Let’s say this third dimension is the movie’s budget. We now have to find the distance between these two points in three dimensions.\n",
    "\n",
    "What if we’re not happy with just three dimensions? Unfortunately, it becomes pretty difficult to visualize points in dimensions higher than 3. But that doesn’t mean we can’t find the distance between them.\n",
    "\n",
    "The generalized distance formula between points A and B is as follows:\n",
    "Here, A1-B1 is the difference between the first feature of each point. An-Bn is the difference between the last feature of each point.\n",
    "\n",
    "Using this formula, we can find the K-Nearest Neighbors of a point in N-dimensional space! We now can use as much information about our movies as we want.\n",
    "\n",
    "We will eventually use these distances to find the nearest neighbors to an unlabeled point."
   ]
  },
  {
   "cell_type": "code",
   "execution_count": 1,
   "id": "fc51499f-60fc-499a-b845-fb61a14a7f6e",
   "metadata": {},
   "outputs": [
    {
     "name": "stdout",
     "output_type": "stream",
     "text": [
      "7000000.000008286\n",
      "6000000.000126083\n"
     ]
    }
   ],
   "source": [
    "star_wars = [125, 1977, 11000000]\n",
    "raiders = [115, 1981, 18000000]\n",
    "mean_girls = [97, 2004, 17000000]\n",
    "\n",
    "def distance(movie1, movie2):\n",
    "  squared_difference = 0\n",
    "  for i in range(len(movie1)):\n",
    "    squared_difference += (movie1[i] - movie2[i]) ** 2\n",
    "  return squared_difference ** 0.5\n",
    "\n",
    "print(distance(star_wars,raiders))\n",
    "print(distance(star_wars,mean_girls))"
   ]
  },
  {
   "cell_type": "markdown",
   "id": "0fbcd471-4a84-401f-9105-2baba8d6ae5e",
   "metadata": {},
   "source": [
    "Three steps of the K-Nearest Neighbor Algorithm:\n",
    "\n",
    "* Normalize the data\n",
    "* Find the k nearest neighbors\n",
    "* Classify the new point based on those neighbors"
   ]
  },
  {
   "cell_type": "code",
   "execution_count": 3,
   "id": "efff9007-dd85-45a4-a8ce-8e8dd4457119",
   "metadata": {},
   "outputs": [],
   "source": [
    "# Normalization\n",
    "\n",
    "release_dates = [1897, 1998, 2000, 1948, 1962, 1950, 1975, 1960, 2017, 1937, 1968, 1996, 1944, 1891, 1995, 1948, 2011, 1965, 1891, 1978]\n",
    "\n",
    "def min_max_normalize(lst):\n",
    "  minimum = min(lst)\n",
    "  maximum = max(lst)\n",
    "  normalized = []\n",
    "  for value in lst:\n",
    "    normalized_num = (value - minimum) / (maximum - minimum)\n",
    "    normalized.append(normalized_num)\n",
    "  return normalized\n",
    "print(min_max_normalize(release_dates))"
   ]
  },
  {
   "cell_type": "code",
   "execution_count": null,
   "id": "f414018b-584d-4148-98f5-def880978c61",
   "metadata": {},
   "outputs": [],
   "source": [
    "from movies import movie_dataset, movie_labels\n",
    "\n",
    "#print(movie_dataset['Bruce Almighty'])\n",
    "#print(movie_labels['Bruce Almighty'])\n",
    "\n",
    "def distance(movie1, movie2):\n",
    "  squared_difference = 0\n",
    "  for i in range(len(movie1)):\n",
    "    squared_difference += (movie1[i] - movie2[i]) ** 2\n",
    "  final_distance = squared_difference ** 0.5\n",
    "  return final_distance\n",
    "\n",
    "def classify(unknown, dataset, k):\n",
    "  distances = []\n",
    " #Looping through all points in the dataset\n",
    "  for title in dataset:\n",
    "    movie = dataset[title]\n",
    "    distance_to_point = distance(movie, unknown)\n",
    "    #Adding the distance and point associated with that distance\n",
    "    distances.append([distance_to_point, title])\n",
    "  distances.sort()\n",
    "  #Taking only the k closest points\n",
    "  neighbors = distances[0:k]\n",
    "  return neighbors\n",
    "print(classify([.4, .2, .9], movie_dataset, 5))\n"
   ]
  }
 ],
 "metadata": {
  "kernelspec": {
   "display_name": "Python 3 (ipykernel)",
   "language": "python",
   "name": "python3"
  },
  "language_info": {
   "codemirror_mode": {
    "name": "ipython",
    "version": 3
   },
   "file_extension": ".py",
   "mimetype": "text/x-python",
   "name": "python",
   "nbconvert_exporter": "python",
   "pygments_lexer": "ipython3",
   "version": "3.9.12"
  }
 },
 "nbformat": 4,
 "nbformat_minor": 5
}
