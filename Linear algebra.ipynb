{
 "cells": [
  {
   "cell_type": "markdown",
   "id": "1132fd3f-c1e8-4b0b-8790-a8eef7c8a249",
   "metadata": {},
   "source": [
    "# Linear algebra\n",
    "\n",
    "A linear equation is an algebraic equation in which each term is either a constant or the product of a constant and a single variable. Linear equations can have one, two, or more variables. The term \"linear\" comes from the fact that the graph of the equation forms a straight line.\n",
    "\n",
    "## Constants vs variables\n",
    "\n",
    "### Constant\n",
    "A constant is a value that does not change. It remains the same regardless of the situation or context. In equations, constants might be numbers like \n",
    "5, π, or any fixed value. For example, in the equation y = 3x + 7 the number 7 is a constant because its value is fixed.\n",
    "\n",
    "### Variable\n",
    "A variable, on the other hand, represents an unknown value or a value that can change. Variables are often denoted by letters such as x, y, or z. In the context of different mathematical problems, variables can take on different values. For example, in the equation y = 3x + 7 both y and x are variables because their values are not specified and can vary.\n",
    "\n",
    "#### Difference in Usage\n",
    "Constants are useful for representing fixed values in mathematical expressions and equations, such as the speed of light or the value of pi, which don’t change.\n",
    "\n",
    "Variables are used to represent unknowns or quantities that can change. They are particularly useful in equations, functions, and mathematical models where different input values (variables) can generate different outputs.\n",
    "\n",
    "## Basic Form\n",
    "Linear equations can be written in various forms depending on the context, but one of the most common ways to express them is the slope-intercept form:\n",
    "\n",
    "y=mx+b\n",
    "\n",
    "where y and x are variables,m is the slope of the line (how much \n",
    "y increases/decreases as x\n",
    "x increases by 1), b is the y-intercept (the value of y when x is 0).\n",
    "\n",
    "### In More Variables\n",
    "\n",
    "Linear equations can involve more than two variables. For example, in three variables, a linear equation might look like this:\n",
    "\n",
    "ax+by+cz=d\n",
    "\n",
    "where a, b, c, and d are constants, and x, y, and z are variables.\n",
    "\n",
    "### Key Characteristics\n",
    "\n",
    "The variables are always to the first power and are never multiplied together. The graph of the equation will always be a straight line (in two dimensions) or a plane (in three dimensions).\n",
    "\n",
    "An example of a linear equation in two dimensions might be:\n",
    "\n",
    "y=2x+3\n",
    "\n",
    "In this equation, the slope m is 2, and the y-intercept b is 3. This tells us that for every unit increase in x, y increases by 2, and when x is 0, y is 3.\n",
    "\n",
    "### Why Important?\n",
    "Linear equations are foundational in algebra and are used to describe many real-world phenomena. They are also the basis for more advanced mathematical concepts and techniques used in various scientific and engineering disciplines.\n",
    "\n",
    "## Key Concepts of Linear Algebra\n",
    "Scalars: A scalar is just a single number, like 3 or -5. Used to scale (multiply) a vector or a matrix. Unlike vectors and matrices, a scalar has no direction or dimensionality. Scalars are typically used to alter the magnitude and/or direction of vectors without altering their spatial orientation.\n",
    "\n",
    "Vectors: A vector is an ordered array of numbers, which can represent things like coordinates in space. For example, \\[2,3,4] is a 3-dimensional vector.\n",
    "\n",
    "Matrices: A matrix is a 2-dimensional array of numbers, arranged in rows and columns, and can represent a set of linear equations or transformations of vectors. For instance,\n",
    "\n",
    "\\[\\[1,2,3], \n",
    "\\[4,5,6],\n",
    "\\[7,8,9]\n",
    "\n",
    "is a 3x3 matrix.\n",
    "\n",
    "Linear Equations: These are equations that represent straight lines when graphed, and have the form ax+by+cz=d in 3 dimensions.\n",
    "\n",
    "Systems of Linear Equations: A set of linear equations that share variables. For example:\n",
    "\n",
    "3x+4y=5\n",
    "2x−y=1\n",
    " \n",
    "## Operations in Linear Algebra\n",
    "* Addition and Subtraction: Vectors and matrices can be added or subtracted element-wise.\n",
    "* Scalar Multiplication: Multiplying a vector or a matrix by a scalar involves multiplying each element by the scalar.\n",
    "* Dot Product: The dot product of two vectors is the sum of the products of their corresponding components.\n",
    "* Matrix Multiplication: Involves multiplying the rows of the first matrix by the columns of the second matrix.\n",
    "* Transposition: Swapping the rows and columns of a matrix.\n",
    "* Determinant and Inverse: The determinant is a special number derived from a square matrix, and the inverse of a matrix, if it exists, is a matrix that, when multiplied with the original matrix, gives the identity matrix."
   ]
  },
  {
   "cell_type": "markdown",
   "id": "160f08f9-6bd8-4b5b-998f-d40eb9fd69d4",
   "metadata": {},
   "source": [
    "## Vectors\n",
    "\n",
    "Vectors are defined as quantities having both direction and magnitude, compared to scalar quantities that only have magnitude. In order to have direction and magnitude, vector quantities consist of two or more elements of data. The dimensionality of a vector is determined by the number of numerical elements in that vector. For example, a vector with four elements would have a dimensionality of four.\n",
    "\n",
    "Let’s take a look at examples of a scalar versus a vector. A car driving at a speed of 40mph is a scalar quantity. Describing the car driving 40mph to the east would represent a two-dimensional vector quantity since it has a magnitude in both the x and y directions.\n",
    "\n",
    "Vectors can be represented as a series of numbers enclosed in parentheses, angle brackets, or square brackets. In this lesson, we will use square brackets for consistency. For example, a three-dimensional vector is written as:\n",
    "\n",
    "v = \\[xyz]\n",
    "\n",
    "​The magnitude (or length) of a vector, ||v||, can be calculated with the sum of each vector component squared.\n",
    "\n",
    "<img src=\"Assets/vector-magnitude.png\">\n",
    "\n",
    "Let’s look at an example. We are told that a ball is traveling through the air and given the velocities of that ball in its x, y, and z directions in a standard Cartesian coordinate system. The velocity component values are:"
   ]
  },
  {
   "cell_type": "code",
   "execution_count": 21,
   "id": "98f1f837-f9ea-4614-a25c-e619700a2db5",
   "metadata": {},
   "outputs": [
    {
     "name": "stdout",
     "output_type": "stream",
     "text": [
      "14.560219778561036\n"
     ]
    }
   ],
   "source": [
    "import math\n",
    "\n",
    "x = (-12) ** 2\n",
    "y = 8 ** 2\n",
    "z = (-2) ** 2\n",
    "\n",
    "v = math.sqrt(x + y + z)\n",
    "print(v)"
   ]
  },
  {
   "cell_type": "markdown",
   "id": "8a90bf80-4d78-4588-b588-4772608db404",
   "metadata": {},
   "source": [
    "### Scalar multiplication\n",
    "\n",
    "Any vector can be multiplied by a scalar, which results in every element of that vector being multiplied by that scalar individually.\n",
    "\n",
    "k\\[xyz] = \\[kx ky kz]\n",
    "\n",
    "Multiplying vectors by scalars is an associative operation, meaning that rearranging the parentheses in the expression does not change the result. For example, we can say 2(a3) = (2a)3.\n",
    "\n",
    "### Vector Addition and Subtraction\n",
    "\n",
    "Vectors can be added and subtracted from each other when they are of the same dimension (same number of components). Doing so adds or subtracts corresponding elements, resulting in a new vector of the same dimension as the two being summed or subtracted. Below is an example of three-dimensional vectors being added and subtracted together.\n",
    "\n",
    "<img src=\"Assets/vector-add.png\">\n",
    "\n",
    "Vector addition is commutative, meaning the order of the terms does not matter. For example, we can say (a+b = b+a). Vector addition is also associative, meaning that (a + (b+c) = (a+b) + c)."
   ]
  },
  {
   "cell_type": "markdown",
   "id": "6b5dda28-35ef-4af2-8d4b-824063f56793",
   "metadata": {},
   "source": [
    "## Dot products\n",
    "\n",
    "A dot product takes two equal dimension vectors and returns a single scalar value by summing the products of the vectors’ corresponding components.\n",
    "\n",
    "To find the dot product of the two vectors:\n",
    "\n",
    "a = \\[3 2 -3]\n",
    "b = \\[0 -3 -6]\n",
    "\n",
    "a • b = 3 * 0 + 2 * -3 + -3 * 6 = 12\n",
    "a • b = 12\n",
    "\n",
    "The dot product operation is both commutative (a · b = b · a) and distributive (a · (b+c) = a · b + a · c).\n",
    "\n",
    "The resulting scalar value represents how much one vector “goes into” the other vector. If two vectors are perpendicular (or orthogonal), their dot product is equal to 0, as neither vector “goes into the other.”"
   ]
  },
  {
   "cell_type": "markdown",
   "id": "7576c1a7-7723-4363-b3ae-ba68e0bfc24b",
   "metadata": {},
   "source": [
    "The dot product can also be used to find the magnitude of a vector and the angle between two vectors. To find the magnitude, we can see that the magnitude of a vector is simply the square root of a vector’s dot product with itself.\n",
    "\n",
    "||a|| = √ A • A\n",
    "\n",
    "To find the angle between two vectors, we rely on the dot product between the two vectors and use the following equation.\n",
    "\n",
    "θ = arccos a•b / ||a|| ||b||\n",
    "\n",
    "9+4+9"
   ]
  },
  {
   "cell_type": "code",
   "execution_count": 22,
   "id": "92d3b317-a375-4cb1-964a-f424bab84452",
   "metadata": {},
   "outputs": [
    {
     "name": "stdout",
     "output_type": "stream",
     "text": [
      "4.69041575982343\n"
     ]
    }
   ],
   "source": [
    "print(math.sqrt(22))"
   ]
  },
  {
   "cell_type": "code",
   "execution_count": null,
   "id": "ebca608c-6c74-479e-af9b-4817a22b8857",
   "metadata": {},
   "outputs": [],
   "source": []
  }
 ],
 "metadata": {
  "kernelspec": {
   "display_name": "Python 3 (ipykernel)",
   "language": "python",
   "name": "python3"
  },
  "language_info": {
   "codemirror_mode": {
    "name": "ipython",
    "version": 3
   },
   "file_extension": ".py",
   "mimetype": "text/x-python",
   "name": "python",
   "nbconvert_exporter": "python",
   "pygments_lexer": "ipython3",
   "version": "3.9.12"
  }
 },
 "nbformat": 4,
 "nbformat_minor": 5
}
