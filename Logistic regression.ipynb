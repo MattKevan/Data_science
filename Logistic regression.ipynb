{
 "cells": [
  {
   "cell_type": "markdown",
   "id": "e8ccb6fe-75da-4455-92ae-7f749f866472",
   "metadata": {},
   "source": [
    "# Logistic regression\n",
    "\n",
    "Logistic regression is a supervised machine learning algorithm that predicts the probability, ranging from 0 to 1, of a datapoint belonging to a specific category, or class. These probabilities can then be used to assign, or classify, observations to the more probable group.\n",
    "\n",
    "For example, we could use a logistic regression model to predict the probability that an incoming email is spam. If that probability is greater than 0.5, we could automatically send it to a spam folder. This is called binary classification because there are only two groups (eg., spam or not spam).\n",
    "\n",
    "Some other examples of problems that we could solve using logistic regression:\n",
    "\n",
    "* Disease identification — Is a tumor malignant?\n",
    "* Customer conversion — Will a customer arriving on a sign-up page enroll in a service?"
   ]
  },
  {
   "cell_type": "code",
   "execution_count": null,
   "id": "4419b5f0-78bc-4372-aabc-97589ddb2658",
   "metadata": {},
   "outputs": [],
   "source": []
  }
 ],
 "metadata": {
  "kernelspec": {
   "display_name": "Python 3 (ipykernel)",
   "language": "python",
   "name": "python3"
  },
  "language_info": {
   "codemirror_mode": {
    "name": "ipython",
    "version": 3
   },
   "file_extension": ".py",
   "mimetype": "text/x-python",
   "name": "python",
   "nbconvert_exporter": "python",
   "pygments_lexer": "ipython3",
   "version": "3.9.12"
  }
 },
 "nbformat": 4,
 "nbformat_minor": 5
}
