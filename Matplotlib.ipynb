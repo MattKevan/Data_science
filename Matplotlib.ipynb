{
 "cells": [
  {
   "cell_type": "markdown",
   "id": "e8ccb6fe-75da-4455-92ae-7f749f866472",
   "metadata": {},
   "source": [
    "# Matplotlib cheatsheet"
   ]
  },
  {
   "cell_type": "code",
   "execution_count": null,
   "id": "4419b5f0-78bc-4372-aabc-97589ddb2658",
   "metadata": {},
   "outputs": [],
   "source": []
  }
 ],
 "metadata": {
  "kernelspec": {
   "display_name": "Python 3 (ipykernel)",
   "language": "python",
   "name": "python3"
  },
  "language_info": {
   "codemirror_mode": {
    "name": "ipython",
    "version": 3
   },
   "file_extension": ".py",
   "mimetype": "text/x-python",
   "name": "python",
   "nbconvert_exporter": "python",
   "pygments_lexer": "ipython3",
   "version": "3.9.12"
  }
 },
 "nbformat": 4,
 "nbformat_minor": 5
}
