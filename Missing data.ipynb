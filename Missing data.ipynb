{
 "cells": [
  {
   "cell_type": "markdown",
   "id": "098e66f9-9e0b-4e2c-9294-4e1df4c981e5",
   "metadata": {},
   "source": [
    "# Handling missing data\n",
    "\n",
    "Missing data comes in four varieties:\n",
    "\n",
    "1. Structurally Missing Data we expect this data to be missing for some logical reason\n",
    "2. Missing Completely at Random (MCAR) the probability of any datapoint being MCAR is the same for all data points – this type of missing data is mostly hypothetical\n",
    "3. Missing at Random (MAR) the probability of any data point being MAR is the same within groups of the observed data – this is much more realistic than MCAR\n",
    "4. Missing Not at Random (MNAR) there is some reason why the data is missing"
   ]
  },
  {
   "cell_type": "markdown",
   "id": "c7a5aafb-12f0-461c-ba8a-40a522d8d3c6",
   "metadata": {},
   "source": [
    "## Structurally missing data\n",
    "\n",
    "Sometimes when we have missing data, we aren’t surprised at all. In fact, in some scenarios, we should have missing data, because it makes sense! This is what Structurally Missing Data is, and it frequently occurs when there are one or more fields that depend on another."
   ]
  }
 ],
 "metadata": {
  "kernelspec": {
   "display_name": "Python 3 (ipykernel)",
   "language": "python",
   "name": "python3"
  },
  "language_info": {
   "codemirror_mode": {
    "name": "ipython",
    "version": 3
   },
   "file_extension": ".py",
   "mimetype": "text/x-python",
   "name": "python",
   "nbconvert_exporter": "python",
   "pygments_lexer": "ipython3",
   "version": "3.9.12"
  }
 },
 "nbformat": 4,
 "nbformat_minor": 5
}
