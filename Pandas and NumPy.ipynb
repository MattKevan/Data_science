{
 "cells": [
  {
   "cell_type": "markdown",
   "id": "518b27fe-0907-45e7-b7f0-6c6735c65fbb",
   "metadata": {},
   "source": [
    "# Pandas and NumPy"
   ]
  },
  {
   "cell_type": "code",
   "execution_count": 3,
   "id": "5712a117-bef5-4b30-bcfb-162ce1df731c",
   "metadata": {},
   "outputs": [],
   "source": [
    "import numpy as np\n",
    "import pandas as pd"
   ]
  },
  {
   "cell_type": "markdown",
   "id": "93c558a9-6654-4cdf-b365-45016e217202",
   "metadata": {},
   "source": [
    "## NumPy arrays\n",
    "\n",
    "These are like Python lists but more flexible. They're called ndarrays as they can have any number (n) of dimensions (d). They hold a collection of any one data type and can be either vector (one-dimensional) or a matrix (multi-dimensional)."
   ]
  },
  {
   "cell_type": "code",
   "execution_count": 4,
   "id": "16c98d57-2f5f-4e7c-a913-2982ac664bb2",
   "metadata": {},
   "outputs": [
    {
     "name": "stdout",
     "output_type": "stream",
     "text": [
      "[1 2 3 4]\n"
     ]
    }
   ],
   "source": [
    "# Creating a one-dimensional ndarray\n",
    "\n",
    "list1 = [1,2,3,4] # Creates Python list\n",
    "array1 = np.array(list1) # Converts to ndarray\n",
    "print(array1)"
   ]
  },
  {
   "cell_type": "code",
   "execution_count": 5,
   "id": "eacd66bf-77d5-44bd-8bc7-447298521705",
   "metadata": {},
   "outputs": [
    {
     "name": "stdout",
     "output_type": "stream",
     "text": [
      "[[1 2 3]\n",
      " [4 5 6]]\n"
     ]
    }
   ],
   "source": [
    "# Creating a two-dimensional ndarray\n",
    "\n",
    "list2 = [[1,2,3],[4,5,6]]\n",
    "array2 = np.array(list2)\n",
    "print(array2)"
   ]
  },
  {
   "cell_type": "markdown",
   "id": "e727cad8-7b80-4e34-95fa-8d67ecc2794f",
   "metadata": {},
   "source": [
    "### Mathmatical operations"
   ]
  },
  {
   "cell_type": "markdown",
   "id": "92138051-abfc-4de9-a570-1a2ed916c708",
   "metadata": {},
   "source": [
    "Operations can be performed on all values in a ndarray in one go, rather than having to loop through all the values like with a standard Python list."
   ]
  },
  {
   "cell_type": "code",
   "execution_count": 7,
   "id": "46d55d91-7383-492d-9b4a-a4fb70900798",
   "metadata": {},
   "outputs": [
    {
     "name": "stdout",
     "output_type": "stream",
     "text": [
      "[3 6 1 4]\n"
     ]
    }
   ],
   "source": [
    "array3 = np.array([5,8,3,6])\n",
    "print(array3 - 2)"
   ]
  },
  {
   "cell_type": "markdown",
   "id": "a4b2e296-2c71-459e-9022-341748b4421d",
   "metadata": {},
   "source": [
    "## Pandas series\n",
    "\n",
    "Series are the core object of the pandas library. It's similar to a one-dimensional ndarray, except that it allows values in the series to be indexed using labels. This is useful to access data by name rather than just an array indice.\n",
    "\n",
    "With a series object, the indices are set to 0,1,2,3... by default, but can be customised so that ages can be accessed by names, for example. A Series holds data of any one type and can be created by sending in a scalar value, Python list, dictionary, or ndarray as a parameter to the pandas Series constructor. If a dictionary is sent in, the keys may be used as the indices."
   ]
  },
  {
   "cell_type": "code",
   "execution_count": 8,
   "id": "be048ca0-ad48-42fa-9ce1-4129f2ec6f04",
   "metadata": {},
   "outputs": [
    {
     "name": "stdout",
     "output_type": "stream",
     "text": [
      "0    34\n",
      "1    45\n",
      "2    22\n",
      "3    23\n",
      "dtype: int64\n"
     ]
    }
   ],
   "source": [
    "# Create a Series using a NumPy array, using default numerical indices\n",
    "ages = np.array([34,45,22,23])\n",
    "series1 = pd.Series(ages)\n",
    "print(series1)"
   ]
  },
  {
   "cell_type": "markdown",
   "id": "02b6ed93-490d-48cc-86ed-e6fcbd8e701a",
   "metadata": {},
   "source": [
    "When printing a series, the data type of its elements is also printed. To customize the indices of a Series object, use the index argument of the Series constructor."
   ]
  },
  {
   "cell_type": "code",
   "execution_count": 9,
   "id": "5573680e-64f8-47ef-8542-362405d0caef",
   "metadata": {},
   "outputs": [
    {
     "name": "stdout",
     "output_type": "stream",
     "text": [
      "Emma      13\n",
      "Swetha    25\n",
      "Serajh    19\n",
      "dtype: int64\n"
     ]
    }
   ],
   "source": [
    "# Create a Series using a NumPy array of ages but customize the indices to be the names that correspond to each age\n",
    "ages = np.array([13,25,19])\n",
    "series1 = pd.Series(ages,index=['Emma', 'Swetha', 'Serajh'])\n",
    "print(series1)"
   ]
  },
  {
   "cell_type": "markdown",
   "id": "a4f2c40b-67ed-4324-b148-eb889866becb",
   "metadata": {},
   "source": [
    "## Pandas DataFrames"
   ]
  },
  {
   "cell_type": "markdown",
   "id": "2dcaeba3-7376-4f49-a612-457079719a32",
   "metadata": {},
   "source": [
    "The dataframe is similar to a two-dimensional ndarray, but like a series, both the rows and columns can be indexed with numbers or string names. A single dataframe can contain any type of data, but columns must have the same data type as it's basically a series. All columns must have the same number of rows."
   ]
  },
  {
   "cell_type": "code",
   "execution_count": 25,
   "id": "73daac97-1abf-48b0-8937-825a0a665ec6",
   "metadata": {
    "scrolled": true
   },
   "outputs": [
    {
     "name": "stdout",
     "output_type": "stream",
     "text": [
      "                name             address  age\n",
      "0     Sarah Cabbages         123 Main St   34\n",
      "1          Gary Peas       456 Maple Ave   28\n",
      "2  Hannah Strawberry        789 Broadway   51\n",
      "3         Bob Turnip  66a Halfway Street   32\n",
      "4  Elsie Cauliflower      12 Bobton Vale   75\n",
      "5    Harry Pineapple      43 Street Road   24\n"
     ]
    }
   ],
   "source": [
    "# Create a basic dataframe, setting the column names\n",
    "\n",
    "df1 = pd.DataFrame([\n",
    "    ['Sarah Cabbages','123 Main St',34],\n",
    "    ['Gary Peas', '456 Maple Ave',28],\n",
    "    ['Hannah Strawberry', '789 Broadway',51],\n",
    "    ['Bob Turnip', '66a Halfway Street',32],\n",
    "    ['Elsie Cauliflower', '12 Bobton Vale',75],\n",
    "    ['Harry Pineapple', '43 Street Road',24]\n",
    "    ],\n",
    "    columns=['name','address','age'])\n",
    "\n",
    "print(df1)"
   ]
  },
  {
   "cell_type": "markdown",
   "id": "12f8818b-b9f1-42e8-adaa-ffbf077f4f4b",
   "metadata": {},
   "source": [
    "This still uses the default 0,1,2 row indices, but this can be changed."
   ]
  },
  {
   "cell_type": "code",
   "execution_count": 26,
   "id": "51e17c9a-194e-4ca9-bfc5-0becb2555fbb",
   "metadata": {},
   "outputs": [
    {
     "name": "stdout",
     "output_type": "stream",
     "text": [
      "                name             address  age\n",
      "0     Sarah Cabbages         123 Main St   34\n",
      "1          Gary Peas       456 Maple Ave   28\n",
      "2  Hannah Strawberry        789 Broadway   51\n",
      "3         Bob Turnip  66a Halfway Street   32\n",
      "4  Elsie Cauliflower      12 Bobton Vale   75\n",
      "5    Harry Pineapple      43 Street Road   24\n"
     ]
    }
   ],
   "source": [
    "df1.set_index('name') # Sets the row indices to the name\n",
    "print(df1)"
   ]
  },
  {
   "cell_type": "markdown",
   "id": "458bd9a9-1594-41a9-90e0-91bf618d5189",
   "metadata": {},
   "source": [
    "## Loading & saving CSV content"
   ]
  },
  {
   "cell_type": "code",
   "execution_count": null,
   "id": "aa467832-288c-4334-9144-6be1eb4ba872",
   "metadata": {},
   "outputs": [],
   "source": [
    "# Create a dataframe from CSV content\n",
    "\n",
    "dataframe = pd.read_csv('my-csv-file.csv')\n",
    "\n",
    "# Save a CSV from dataframe content\n",
    "\n",
    "df.to_csv('new-csv-file.csv')"
   ]
  },
  {
   "cell_type": "markdown",
   "id": "53099829-1a66-4f59-94b2-f1dd2743d2b9",
   "metadata": {},
   "source": [
    "## Viewing a dataframe\n",
    "\n",
    "### Printing content\n",
    "\n",
    "Use .head() to print the first few rows of a dataframe."
   ]
  },
  {
   "cell_type": "code",
   "execution_count": 33,
   "id": "e98174cf-37f8-40a0-9a82-60a2fb1b6037",
   "metadata": {},
   "outputs": [
    {
     "data": {
      "text/html": [
       "<div>\n",
       "<style scoped>\n",
       "    .dataframe tbody tr th:only-of-type {\n",
       "        vertical-align: middle;\n",
       "    }\n",
       "\n",
       "    .dataframe tbody tr th {\n",
       "        vertical-align: top;\n",
       "    }\n",
       "\n",
       "    .dataframe thead th {\n",
       "        text-align: right;\n",
       "    }\n",
       "</style>\n",
       "<table border=\"1\" class=\"dataframe\">\n",
       "  <thead>\n",
       "    <tr style=\"text-align: right;\">\n",
       "      <th></th>\n",
       "      <th>name</th>\n",
       "      <th>address</th>\n",
       "      <th>age</th>\n",
       "    </tr>\n",
       "  </thead>\n",
       "  <tbody>\n",
       "    <tr>\n",
       "      <th>0</th>\n",
       "      <td>Sarah Cabbages</td>\n",
       "      <td>123 Main St</td>\n",
       "      <td>34</td>\n",
       "    </tr>\n",
       "    <tr>\n",
       "      <th>1</th>\n",
       "      <td>Gary Peas</td>\n",
       "      <td>456 Maple Ave</td>\n",
       "      <td>28</td>\n",
       "    </tr>\n",
       "    <tr>\n",
       "      <th>2</th>\n",
       "      <td>Hannah Strawberry</td>\n",
       "      <td>789 Broadway</td>\n",
       "      <td>51</td>\n",
       "    </tr>\n",
       "    <tr>\n",
       "      <th>3</th>\n",
       "      <td>Bob Turnip</td>\n",
       "      <td>66a Halfway Street</td>\n",
       "      <td>32</td>\n",
       "    </tr>\n",
       "    <tr>\n",
       "      <th>4</th>\n",
       "      <td>Elsie Cauliflower</td>\n",
       "      <td>12 Bobton Vale</td>\n",
       "      <td>75</td>\n",
       "    </tr>\n",
       "    <tr>\n",
       "      <th>5</th>\n",
       "      <td>Harry Pineapple</td>\n",
       "      <td>43 Street Road</td>\n",
       "      <td>24</td>\n",
       "    </tr>\n",
       "  </tbody>\n",
       "</table>\n",
       "</div>"
      ],
      "text/plain": [
       "                name             address  age\n",
       "0     Sarah Cabbages         123 Main St   34\n",
       "1          Gary Peas       456 Maple Ave   28\n",
       "2  Hannah Strawberry        789 Broadway   51\n",
       "3         Bob Turnip  66a Halfway Street   32\n",
       "4  Elsie Cauliflower      12 Bobton Vale   75\n",
       "5    Harry Pineapple      43 Street Road   24"
      ]
     },
     "execution_count": 33,
     "metadata": {},
     "output_type": "execute_result"
    }
   ],
   "source": [
    "# Print the entire dataframe\n",
    "df1"
   ]
  },
  {
   "cell_type": "code",
   "execution_count": 34,
   "id": "f6bd10ba-f34e-4d8c-a8de-80a63665ec51",
   "metadata": {
    "collapsed": true,
    "jupyter": {
     "outputs_hidden": true
    },
    "scrolled": true
   },
   "outputs": [
    {
     "data": {
      "text/html": [
       "<div>\n",
       "<style scoped>\n",
       "    .dataframe tbody tr th:only-of-type {\n",
       "        vertical-align: middle;\n",
       "    }\n",
       "\n",
       "    .dataframe tbody tr th {\n",
       "        vertical-align: top;\n",
       "    }\n",
       "\n",
       "    .dataframe thead th {\n",
       "        text-align: right;\n",
       "    }\n",
       "</style>\n",
       "<table border=\"1\" class=\"dataframe\">\n",
       "  <thead>\n",
       "    <tr style=\"text-align: right;\">\n",
       "      <th></th>\n",
       "      <th>name</th>\n",
       "      <th>address</th>\n",
       "      <th>age</th>\n",
       "    </tr>\n",
       "  </thead>\n",
       "  <tbody>\n",
       "    <tr>\n",
       "      <th>0</th>\n",
       "      <td>Sarah Cabbages</td>\n",
       "      <td>123 Main St</td>\n",
       "      <td>34</td>\n",
       "    </tr>\n",
       "    <tr>\n",
       "      <th>1</th>\n",
       "      <td>Gary Peas</td>\n",
       "      <td>456 Maple Ave</td>\n",
       "      <td>28</td>\n",
       "    </tr>\n",
       "    <tr>\n",
       "      <th>2</th>\n",
       "      <td>Hannah Strawberry</td>\n",
       "      <td>789 Broadway</td>\n",
       "      <td>51</td>\n",
       "    </tr>\n",
       "    <tr>\n",
       "      <th>3</th>\n",
       "      <td>Bob Turnip</td>\n",
       "      <td>66a Halfway Street</td>\n",
       "      <td>32</td>\n",
       "    </tr>\n",
       "    <tr>\n",
       "      <th>4</th>\n",
       "      <td>Elsie Cauliflower</td>\n",
       "      <td>12 Bobton Vale</td>\n",
       "      <td>75</td>\n",
       "    </tr>\n",
       "    <tr>\n",
       "      <th>5</th>\n",
       "      <td>Harry Pineapple</td>\n",
       "      <td>43 Street Road</td>\n",
       "      <td>24</td>\n",
       "    </tr>\n",
       "  </tbody>\n",
       "</table>\n",
       "</div>"
      ],
      "text/plain": [
       "                name             address  age\n",
       "0     Sarah Cabbages         123 Main St   34\n",
       "1          Gary Peas       456 Maple Ave   28\n",
       "2  Hannah Strawberry        789 Broadway   51\n",
       "3         Bob Turnip  66a Halfway Street   32\n",
       "4  Elsie Cauliflower      12 Bobton Vale   75\n",
       "5    Harry Pineapple      43 Street Road   24"
      ]
     },
     "execution_count": 34,
     "metadata": {},
     "output_type": "execute_result"
    }
   ],
   "source": [
    "# Print the first 5 rows\n",
    "df1.head()\n",
    "\n",
    "# Print the first 10 rows\n",
    "df1.head(10)"
   ]
  },
  {
   "cell_type": "markdown",
   "id": "0e277123-3f2f-4cb3-86da-da5d6ff679c4",
   "metadata": {},
   "source": [
    "### Getting stats\n",
    "\n",
    "Use .info() to view information about the dataframe, including the number of rows and columns, the data type of each column and whether a cell is empty."
   ]
  },
  {
   "cell_type": "code",
   "execution_count": 36,
   "id": "7af157e5-d054-4f0c-abb7-4b3201720936",
   "metadata": {},
   "outputs": [
    {
     "name": "stdout",
     "output_type": "stream",
     "text": [
      "<class 'pandas.core.frame.DataFrame'>\n",
      "RangeIndex: 6 entries, 0 to 5\n",
      "Data columns (total 3 columns):\n",
      " #   Column   Non-Null Count  Dtype \n",
      "---  ------   --------------  ----- \n",
      " 0   name     6 non-null      object\n",
      " 1   address  6 non-null      object\n",
      " 2   age      6 non-null      int64 \n",
      "dtypes: int64(1), object(2)\n",
      "memory usage: 272.0+ bytes\n"
     ]
    }
   ],
   "source": [
    "df1.info()"
   ]
  },
  {
   "cell_type": "markdown",
   "id": "3de406b3-b5b1-4bf3-ba69-a2442a893e7f",
   "metadata": {},
   "source": [
    "### Finding type\n",
    "\n",
    "Use type() to find out whether an object is a dataframe or a series."
   ]
  },
  {
   "cell_type": "code",
   "execution_count": 37,
   "id": "6903702f-3db1-4ccf-b7d7-60dda0e17f5d",
   "metadata": {},
   "outputs": [
    {
     "data": {
      "text/plain": [
       "pandas.core.frame.DataFrame"
      ]
     },
     "execution_count": 37,
     "metadata": {},
     "output_type": "execute_result"
    }
   ],
   "source": [
    "type(df1)"
   ]
  },
  {
   "cell_type": "markdown",
   "id": "081695a8-e775-47d7-8d5b-9881eb45032e",
   "metadata": {},
   "source": [
    "## Selecting content\n",
    "\n",
    "### Selecting columns\n",
    "\n",
    "There are two ways to select all the values in a column. The first is to select it like a dictionary key, the second is to select it like a variable name. The second can only be used if the column name doesn't start with a number, contain spaces or special characters etc."
   ]
  },
  {
   "cell_type": "code",
   "execution_count": 22,
   "id": "7a957532-4825-4eaa-990d-955ff2de484c",
   "metadata": {},
   "outputs": [],
   "source": [
    "# First method\n",
    "age = df1['age']\n",
    "\n",
    "# Second method \n",
    "age = df1.age\n",
    "\n",
    "# Selecting multiple columns \n",
    "\n",
    "new_df = df1[['name', 'age']]"
   ]
  },
  {
   "cell_type": "markdown",
   "id": "96c693c6-5322-4df7-aefe-b4907ea7060f",
   "metadata": {},
   "source": [
    "### Selecting rows\n",
    "\n",
    "Rows can be selected by the index. Dataframes are zero-indexed, so the first row index is 0."
   ]
  },
  {
   "cell_type": "code",
   "execution_count": 38,
   "id": "bc081bd1-38de-4473-bb1b-6f5f97c53694",
   "metadata": {},
   "outputs": [
    {
     "data": {
      "text/plain": [
       "name       Hannah Strawberry\n",
       "address         789 Broadway\n",
       "age                       51\n",
       "Name: 2, dtype: object"
      ]
     },
     "execution_count": 38,
     "metadata": {},
     "output_type": "execute_result"
    }
   ],
   "source": [
    "# Selecting the third row \n",
    "\n",
    "row = df1.iloc[2]\n",
    "row"
   ]
  },
  {
   "cell_type": "code",
   "execution_count": null,
   "id": "2cb7bc9c-15ef-4176-8070-0bd9b4ff0ed3",
   "metadata": {},
   "outputs": [],
   "source": [
    "# Selecting multiple rows\n",
    "\n",
    "df1.iloc[2:4] \n",
    "# Selects all rows starting at 2 and up to but not including 4.\n",
    "\n",
    "df1.iloc[:4] \n",
    "# Selects all rows up to but not including 4.\n",
    "\n",
    "df1.iloc[-3:] \n",
    "# Select the rows starting at the 3rd to last row and up to and including the final row"
   ]
  },
  {
   "cell_type": "markdown",
   "id": "54ba4cbb-71ad-48e3-84e7-c90aaee28d55",
   "metadata": {},
   "source": [
    "### Selecting with logic\n",
    "\n",
    "Standard logical operators can be used to select content, such as == != <= >= etc.\n",
    "Multiple statements can be combined with and (&), or (|) etc. "
   ]
  },
  {
   "cell_type": "code",
   "execution_count": 31,
   "id": "3eb879d9-adf5-4e52-8d96-0ea4ffe56c49",
   "metadata": {},
   "outputs": [
    {
     "data": {
      "text/html": [
       "<div>\n",
       "<style scoped>\n",
       "    .dataframe tbody tr th:only-of-type {\n",
       "        vertical-align: middle;\n",
       "    }\n",
       "\n",
       "    .dataframe tbody tr th {\n",
       "        vertical-align: top;\n",
       "    }\n",
       "\n",
       "    .dataframe thead th {\n",
       "        text-align: right;\n",
       "    }\n",
       "</style>\n",
       "<table border=\"1\" class=\"dataframe\">\n",
       "  <thead>\n",
       "    <tr style=\"text-align: right;\">\n",
       "      <th></th>\n",
       "      <th>name</th>\n",
       "      <th>address</th>\n",
       "      <th>age</th>\n",
       "    </tr>\n",
       "  </thead>\n",
       "  <tbody>\n",
       "    <tr>\n",
       "      <th>1</th>\n",
       "      <td>Gary Peas</td>\n",
       "      <td>456 Maple Ave</td>\n",
       "      <td>28</td>\n",
       "    </tr>\n",
       "    <tr>\n",
       "      <th>5</th>\n",
       "      <td>Harry Pineapple</td>\n",
       "      <td>43 Street Road</td>\n",
       "      <td>24</td>\n",
       "    </tr>\n",
       "  </tbody>\n",
       "</table>\n",
       "</div>"
      ],
      "text/plain": [
       "              name         address  age\n",
       "1        Gary Peas   456 Maple Ave   28\n",
       "5  Harry Pineapple  43 Street Road   24"
      ]
     },
     "execution_count": 31,
     "metadata": {},
     "output_type": "execute_result"
    }
   ],
   "source": [
    "# Select all rows where the age is less than or equal to 30\n",
    "df1[df1.age <= 30] \n",
    "\n"
   ]
  },
  {
   "cell_type": "code",
   "execution_count": 39,
   "id": "68ddddd7-c835-45a5-b1af-957e20552902",
   "metadata": {},
   "outputs": [
    {
     "data": {
      "text/html": [
       "<div>\n",
       "<style scoped>\n",
       "    .dataframe tbody tr th:only-of-type {\n",
       "        vertical-align: middle;\n",
       "    }\n",
       "\n",
       "    .dataframe tbody tr th {\n",
       "        vertical-align: top;\n",
       "    }\n",
       "\n",
       "    .dataframe thead th {\n",
       "        text-align: right;\n",
       "    }\n",
       "</style>\n",
       "<table border=\"1\" class=\"dataframe\">\n",
       "  <thead>\n",
       "    <tr style=\"text-align: right;\">\n",
       "      <th></th>\n",
       "      <th>name</th>\n",
       "      <th>address</th>\n",
       "      <th>age</th>\n",
       "    </tr>\n",
       "  </thead>\n",
       "  <tbody>\n",
       "    <tr>\n",
       "      <th>1</th>\n",
       "      <td>Gary Peas</td>\n",
       "      <td>456 Maple Ave</td>\n",
       "      <td>28</td>\n",
       "    </tr>\n",
       "  </tbody>\n",
       "</table>\n",
       "</div>"
      ],
      "text/plain": [
       "        name        address  age\n",
       "1  Gary Peas  456 Maple Ave   28"
      ]
     },
     "execution_count": 39,
     "metadata": {},
     "output_type": "execute_result"
    }
   ],
   "source": [
    "# Select all rows where the age is less than 30 and the name is Gary Peas\n",
    "# Note the extra curly brackets to contain the statements inside the square brackets.\n",
    "\n",
    "df1[(df1.age <= 30) & (df1.name == 'Gary Peas'] "
   ]
  },
  {
   "cell_type": "code",
   "execution_count": null,
   "id": "624dea37-9e85-47ee-bf3c-329e107605c0",
   "metadata": {},
   "outputs": [],
   "source": []
  }
 ],
 "metadata": {
  "kernelspec": {
   "display_name": "Python 3 (ipykernel)",
   "language": "python",
   "name": "python3"
  },
  "language_info": {
   "codemirror_mode": {
    "name": "ipython",
    "version": 3
   },
   "file_extension": ".py",
   "mimetype": "text/x-python",
   "name": "python",
   "nbconvert_exporter": "python",
   "pygments_lexer": "ipython3",
   "version": "3.9.12"
  }
 },
 "nbformat": 4,
 "nbformat_minor": 5
}
