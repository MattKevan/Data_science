{
 "cells": [
  {
   "cell_type": "markdown",
   "id": "184425f7-6176-4128-91af-2fe472157489",
   "metadata": {},
   "source": [
    "# Probability\n",
    "\n",
    "Probability is a branch of maths that allows us to quantify uncertainty\n",
    "\n",
    "## Set theory\n",
    "\n",
    "In simple terms, a set is a collection of things. For example, we can use a set to represent items in a backpack. We might have: \n",
    "\n",
    "{Book,Paper,Folder,Hat,Pen,Snack}\n",
    "\n",
    "Sets are notated with curly braces and follow two rules – elements are unique and are in no particular order. Therefore: {1,2,3,4,5} = {5,3,2,4,1}\n",
    "\n",
    "Sets are often defined with a capital letter:\n",
    "\n",
    "A = {1,2,3,4,5}\n",
    "\n",
    "Sets can also contain subsets. Set A is a subset of set B if all the elements in A exist within B. For example:\n",
    " \n",
    "A = {1,2,3}\n",
    "B = {1,2,3,4,5}\n",
    "​\t \n",
    "Here, set A is a subset of B because all elements of A are contained within B.\n",
    "\n",
    "### Experiments and sample spaces\n",
    "\n",
    "In probability, an experiment is something that produces observation(s) with some level of uncertainty. A sample point is a single possible outcome of an experiment. A sample space is the set of all possible sample points for an experiment.\n",
    "\n",
    "For example, if we flip a coin twice and record whether each flip results in heads or tails, there would be four sample points in t1he experiment: two heads (HH), tails and then heads (TH), heads and then tails (HT), or two tails (TT). The sample space can be written as:\n",
    "\n",
    "S = {HH,TT,HT,TH}\n",
    "\n",
    "A specific outcome or set of outcomes is an event (E), and a subset of the sample space. Events could include: \n",
    "\n",
    "Getting Two Heads\n",
    "A={HH}\n",
    "\n",
    "Getting Two Tails\n",
    "B={TT}\n",
    "\n",
    "Getting Both a Heads and Tails\n",
    "C={HT,TH}\n",
    "\n",
    "## Calculating probability \n",
    "​\n",
    "Probability can be defined as \"If we run an experiment an infinite amount of times, the probability of each event is the proportion of times it occurs.\"\n",
    "\n",
    "The probability of an event happening is the number of times an event occured divided by the number of trials.\n",
    "\n",
    "If we ran 1000 coin flip experiments and we got two heads 255 times, the probability would be:\n"
   ]
  },
  {
   "cell_type": "code",
   "execution_count": 3,
   "id": "aea8cd0d-894c-4b62-9357-afe77766d01b",
   "metadata": {},
   "outputs": [
    {
     "data": {
      "text/plain": [
       "0.255"
      ]
     },
     "execution_count": 3,
     "metadata": {},
     "output_type": "execute_result"
    }
   ],
   "source": [
    "P = 255 / 1000\n",
    "P"
   ]
  },
  {
   "cell_type": "markdown",
   "id": "50f3b417-6a80-4b38-8f3a-95be37679a86",
   "metadata": {},
   "source": [
    "This means there's an estimated 25.5% chance of getting two heads when flipping coins.\n",
    "\n",
    "It's not feasible often to run an infinite number of experiments to find the true probability, but the law of large numbers states that as the experiment is run more and more, the observed proportion of times each event occurs will converge to its true probability. "
   ]
  },
  {
   "cell_type": "markdown",
   "id": "5236f4ab-5dc2-4dc8-a866-180b4e525b37",
   "metadata": {},
   "source": [
    "## Union, intersection and complement"
   ]
  },
  {
   "cell_type": "markdown",
   "id": "48694928-c97a-4be8-8816-39243581fedc",
   "metadata": {},
   "source": [
    "<img src=\"Assets/union.jpg\">"
   ]
  },
  {
   "cell_type": "markdown",
   "id": "5ee51fdd-e812-429e-a608-324f8f655e1f",
   "metadata": {},
   "source": [
    "If we have two sets, A and B. A represents rolling an odd number with a 6-side dice {1,3,5}, and B represents rolling a number greater than two {3,4,5,6}.\n",
    "\n",
    "### Union \n",
    "\n",
    "The union of two sets encompasses any element that exists in either one or both of them. The union of set A and B is {1,3,4,5,6}. Union can be written as (A or B).\n",
    "\n",
    "Addition rule formula\n",
    "\n",
    "P(A or B) = P(A) + P(B) - P(A and B)\n",
    "\n",
    "### Intersection \n",
    "\n",
    "Intersesction encompasses any element that exists in both sets. Using the same sets as above, the intersection of A and B would be {3,5}. Intersection is written as (A and B).\n",
    "\n",
    "The complement of a set consists of all possible outcomes outside the set. In this example, the complement of A would be rolling an even 4number {2,4,6}. The complement of A is written as A𝘤. Together the set and its complement cover the entire sample space.\n",
    "\n",
    "\n",
    "### Mutually exclusive \n",
    "\n",
    "Mutually exclusive events are ones that can't happen at the same time. For example, it's not possible to get both heads and tails from a single coin flip."
   ]
  },
  {
   "cell_type": "markdown",
   "id": "2db4d547-67b4-4333-9ed0-2e8706f6d1eb",
   "metadata": {},
   "source": [
    "## Dependent vs. independent events\n",
    "\n",
    "Independent events are ones that do not effect future ones. A coin flip does not effect later flips.\n",
    "\n",
    "Dependent events are ones where a previous event does effect future events. If a bag has five red marbles and three green marbles, the probability of taking a green marble out of the bag in the second event depends on the colour of the marble in the first event."
   ]
  },
  {
   "cell_type": "markdown",
   "id": "19c1b80e-af13-4216-939c-5c1a56d05e8e",
   "metadata": {},
   "source": [
    "## Addition rule\n",
    "\n",
    "Event A is rolling an odd number on a six sided dice, event B is rolling a number greater than two. To find the probability of one or both events\n",
    "P(A or B)= P(A)+P(B)−P(A and B)\n",
    "\n",
    "Mutually exclusive"
   ]
  },
  {
   "cell_type": "code",
   "execution_count": null,
   "id": "0571f123-8bc5-47cf-b52b-5c0c7ab8f838",
   "metadata": {},
   "outputs": [],
   "source": []
  },
  {
   "cell_type": "code",
   "execution_count": null,
   "id": "da0a52a3-aa8a-4161-aa7e-87b3f02cc6aa",
   "metadata": {},
   "outputs": [],
   "source": []
  }
 ],
 "metadata": {
  "kernelspec": {
   "display_name": "Python 3 (ipykernel)",
   "language": "python",
   "name": "python3"
  },
  "language_info": {
   "codemirror_mode": {
    "name": "ipython",
    "version": 3
   },
   "file_extension": ".py",
   "mimetype": "text/x-python",
   "name": "python",
   "nbconvert_exporter": "python",
   "pygments_lexer": "ipython3",
   "version": "3.9.12"
  }
 },
 "nbformat": 4,
 "nbformat_minor": 5
}
