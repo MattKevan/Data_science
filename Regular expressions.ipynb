{
 "cells": [
  {
   "cell_type": "markdown",
   "id": "fa35e162-4581-4198-b5cd-e8152247d2db",
   "metadata": {},
   "source": [
    "# Regular expressions"
   ]
  },
  {
   "cell_type": "markdown",
   "id": "8723be75-dbfd-42e3-bb31-d5aab80446ce",
   "metadata": {},
   "source": [
    "## Alternation \n",
    "\n",
    "Find this OR that – either or both return true"
   ]
  },
  {
   "cell_type": "code",
   "execution_count": null,
   "id": "fb704e94-53ca-44ab-89ae-c9832b39ec44",
   "metadata": {},
   "outputs": [],
   "source": [
    "# | = OR\n",
    "\n",
    "this|that\n",
    "\n",
    "# Matches this OR that"
   ]
  },
  {
   "cell_type": "markdown",
   "id": "b797a704-3b74-4240-a779-5a1979c30820",
   "metadata": {},
   "source": [
    "## Character sets\n",
    "\n",
    "Character sets, denoted by a pair of brackets [], let us match one character from a series of characters, allowing for matches with incorrect or different spellings."
   ]
  },
  {
   "cell_type": "code",
   "execution_count": null,
   "id": "e763d4d9-f291-48c1-a6b9-b9f67627af10",
   "metadata": {},
   "outputs": [],
   "source": [
    "con[sc]en[sc]us\n",
    "# Matches consensus, concensus, consencus, concencus\n",
    "\n",
    "[cat]\n",
    "# Matches c, a, or t, but not the text cat"
   ]
  },
  {
   "cell_type": "code",
   "execution_count": null,
   "id": "a28b92c2-b9e5-4bf7-a8e4-dcfbd1c1749a",
   "metadata": {},
   "outputs": [],
   "source": [
    "# ^ = NOT\n",
    "\n",
    "[^cat]\n",
    "# Matches anything NOT c, a, or t, e.g. dog"
   ]
  },
  {
   "cell_type": "markdown",
   "id": "cf454b80-11fd-4491-ab63-af5c5fd29ae1",
   "metadata": {},
   "source": [
    "## Wildcards\n",
    "\n",
    "Wildcards will match any single character (letter, number, symbol or whitespace) in a piece of text. They are useful when we do not care about the specific value of a character, but only that a character exists."
   ]
  },
  {
   "cell_type": "code",
   "execution_count": null,
   "id": "b1a49cc3-db09-4224-b127-2c01fccf5919",
   "metadata": {},
   "outputs": [],
   "source": [
    "# . = Wildcard\n",
    "# \\. = Escape wildcard\n",
    "\n",
    "......... \n",
    "# Matches any 9 character text\n",
    "\n",
    "I have . cats\n",
    "# Matches I have 2 cats, I have 8 cats, I have X cats etc."
   ]
  },
  {
   "cell_type": "markdown",
   "id": "903f54c0-a3fa-4487-bcf9-12381cab6c9b",
   "metadata": {},
   "source": [
    "## Ranges\n",
    "\n",
    "Ranges allow us to specify a range of characters in which we can make a match without having to type out each individual character."
   ]
  },
  {
   "cell_type": "code",
   "execution_count": null,
   "id": "65ae942c-6f67-4366-9952-5fc7a9104324",
   "metadata": {},
   "outputs": [],
   "source": [
    "[0-9]\n",
    "# Matches any one number between 0-9 \n",
    "\n",
    "[a-z]\n",
    "# Matches any one lowercase letter between a-z\n",
    "\n",
    "[A-Za-z]\n",
    "# Matches any one uppercase or lowercase letter between A-z"
   ]
  },
  {
   "cell_type": "markdown",
   "id": "a3af3656-7c7e-4698-a9e4-d4553fed92e6",
   "metadata": {},
   "source": [
    "## Shorthand Character Classes"
   ]
  },
  {
   "cell_type": "code",
   "execution_count": null,
   "id": "7138289f-b3f6-41c4-b1f6-f1b23799a569",
   "metadata": {},
   "outputs": [],
   "source": [
    "\\w # Word character"
   ]
  },
  {
   "cell_type": "markdown",
   "id": "8567ce44-d19d-4906-b20d-88586929b4d1",
   "metadata": {},
   "source": [
    "Represents the regex range \\[A-Za-z0-9_], and it matches a single uppercase character, lowercase character, digit or underscore"
   ]
  },
  {
   "cell_type": "code",
   "execution_count": null,
   "id": "9a24710f-50e7-476e-85f3-37bff8927c01",
   "metadata": {},
   "outputs": [],
   "source": [
    "\\d # Digit character"
   ]
  },
  {
   "cell_type": "markdown",
   "id": "99948df7-660c-4001-b74c-bca112ed696c",
   "metadata": {},
   "source": [
    "Represents the regex range \\[0-9], and it matches a single digit character"
   ]
  },
  {
   "cell_type": "code",
   "execution_count": null,
   "id": "0101d1f5-807f-4588-bfeb-03f91518837b",
   "metadata": {},
   "outputs": [],
   "source": [
    "\\s # Whitespace character"
   ]
  },
  {
   "cell_type": "markdown",
   "id": "76d014fc-794c-488c-9e0a-5de0d1b35232",
   "metadata": {},
   "source": [
    "Represents the regex range \\[ \\t\\r\\n\\f\\v], matching a single space, tab, carriage return, line break, form feed, or vertical tab."
   ]
  },
  {
   "cell_type": "code",
   "execution_count": null,
   "id": "07fe0825-0aa8-4d30-88a7-1e21e43a0f9e",
   "metadata": {},
   "outputs": [],
   "source": [
    "\\d\\s\\w\\w\\w\\w\\w\\w\\w\n",
    "# Matches a digit character, followed by a whitespace character, followed by 7 word characters, eg. 3 monkeys"
   ]
  },
  {
   "cell_type": "code",
   "execution_count": null,
   "id": "96c1a1e2-b783-4328-bac6-1c22729f001c",
   "metadata": {},
   "outputs": [],
   "source": [
    "\\W # Non-word character"
   ]
  },
  {
   "cell_type": "code",
   "execution_count": null,
   "id": "cdd73471-673a-43a7-abca-36f72fa30c95",
   "metadata": {},
   "outputs": [],
   "source": [
    "\\D # Non-digit character"
   ]
  },
  {
   "cell_type": "code",
   "execution_count": null,
   "id": "f3451eba-4b49-4c5e-b1c1-6b2d914feee9",
   "metadata": {},
   "outputs": [],
   "source": [
    "\\S # Non-whitespace character"
   ]
  },
  {
   "cell_type": "markdown",
   "id": "6dc49848-3b5d-43fa-b412-ab868ccc17ae",
   "metadata": {},
   "source": [
    "## Grouping"
   ]
  },
  {
   "cell_type": "code",
   "execution_count": null,
   "id": "9193bc27-c9c6-4dcb-8d25-c3b3cf442fd7",
   "metadata": {},
   "outputs": [],
   "source": [
    "Put it (here|there)\n",
    "# Matches Put it here OR Put it there"
   ]
  },
  {
   "cell_type": "markdown",
   "id": "dcf21830-6160-4ecb-a232-3c53ebed8ccd",
   "metadata": {},
   "source": [
    "## Quantifiers"
   ]
  },
  {
   "cell_type": "code",
   "execution_count": null,
   "id": "b89e399b-3bc5-4477-9ac3-666c6ea26c15",
   "metadata": {},
   "outputs": [],
   "source": [
    "\\w{3} # Matches any three character words\n",
    "\\w{4,7} # Match any words with a minimum of 4 characters and max 7 characters.\n",
    "\n",
    "roa{3}r\n",
    "# Matches ro aaa r\n",
    "\n",
    "roa{3,7}r \n",
    "# Matches min 3 a's, max 7 a's. Will always match with the largest quantity."
   ]
  },
  {
   "cell_type": "code",
   "execution_count": null,
   "id": "a3957006-99a4-43c8-b44a-087083061376",
   "metadata": {},
   "outputs": [],
   "source": [
    "? # Optional quantifier \n",
    "\n",
    "colou?r\n",
    "# Matches both color and colour as the u is marked as optional\n",
    "# Need to escape \\? if want to use it in sentance.\n",
    "\n",
    "The monkey ate a (rotten )?banana\n",
    "# Matches both The monkey ate a rotten banana and The monkey ate a banana."
   ]
  },
  {
   "cell_type": "code",
   "execution_count": null,
   "id": "ea30c1b7-1cfe-4e4c-8d3b-509dde8d6f93",
   "metadata": {},
   "outputs": [],
   "source": [
    "* # Kleene star - matches 0 or more times\n",
    "\n",
    "coo*l \n",
    "# Matches co followed by 0 or more o's, followed by l \n",
    "# So, col, cool, coooooooooooooool all match."
   ]
  },
  {
   "cell_type": "code",
   "execution_count": null,
   "id": "9190a6ea-ccd2-428c-b28c-c55fe9b22d6a",
   "metadata": {},
   "outputs": [],
   "source": [
    "+ # Kleene plus - matches 1 or more times\n",
    "\n",
    "coo*l \n",
    "# Matches co followed by 1 or more o's, followed by l \n",
    "# So, cool, coool, coooooooooooooool all match."
   ]
  },
  {
   "cell_type": "markdown",
   "id": "6f48f715-b836-42c3-b23d-e84a6f8666be",
   "metadata": {},
   "source": [
    "## Anchors"
   ]
  },
  {
   "cell_type": "markdown",
   "id": "ebc338b8-187f-48bc-8231-4387938c4f04",
   "metadata": {},
   "source": [
    "Anchor metacharacters ensure we don't match unintended text. ^ and $ are used to mark the start and the end of a string."
   ]
  },
  {
   "cell_type": "code",
   "execution_count": null,
   "id": "7c12f5de-293c-4d9f-b7fd-b79a34c884cc",
   "metadata": {},
   "outputs": [],
   "source": [
    "^Red is my favourite colour$\n",
    "# Matches Red is my favourite colour, but not Orange Red is my favourite colour of car."
   ]
  },
  {
   "cell_type": "code",
   "execution_count": null,
   "id": "181eb24d-7073-4461-b860-b53531b741de",
   "metadata": {},
   "outputs": [],
   "source": []
  }
 ],
 "metadata": {
  "kernelspec": {
   "display_name": "Python 3 (ipykernel)",
   "language": "python",
   "name": "python3"
  },
  "language_info": {
   "codemirror_mode": {
    "name": "ipython",
    "version": 3
   },
   "file_extension": ".py",
   "mimetype": "text/x-python",
   "name": "python",
   "nbconvert_exporter": "python",
   "pygments_lexer": "ipython3",
   "version": "3.9.12"
  }
 },
 "nbformat": 4,
 "nbformat_minor": 5
}
