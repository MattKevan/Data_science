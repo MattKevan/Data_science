{
 "cells": [
  {
   "cell_type": "markdown",
   "id": "6d62d898-dd5d-4954-9c26-eab29200e268",
   "metadata": {},
   "source": [
    "# Summarising categorical variables\n",
    "\n",
    "## Nominal categories\n",
    "\n",
    "Nominal categorical variables have no intrinsic ordering to the categories, or numerucal equivalent. Not possible to calculate mean, median. Also not possible to describe spread with variance, standard deviation, range, IQR or percentiles. \n",
    "\n",
    "Is possible to describe mode, most common value in dataset. This can be done by counting the values."
   ]
  },
  {
   "cell_type": "code",
   "execution_count": null,
   "id": "fa37786e-7b27-4fa0-8041-5c1731dc6c6d",
   "metadata": {},
   "outputs": [],
   "source": [
    "# Find the number of different values\n",
    "counts = df['marital.status'].value_counts()\n",
    "print(counts)\n",
    "\n",
    "# Get the mode by selecting the first result from the count list\n",
    "modal_cat = counts.index[0]\n",
    "\n",
    "print(modal_cat)"
   ]
  },
  {
   "cell_type": "markdown",
   "id": "2173dca6-741d-4c74-99e1-c69b7ce04085",
   "metadata": {},
   "source": [
    "## Ordinal categories\n",
    "Ordinal categorical variables have ordered categories. We can find the modal category as before, but we can also calculate other statistics like median.\n",
    "\n",
    "First, we need to assign numerical values to the categories buy inspecting unique categories."
   ]
  },
  {
   "cell_type": "code",
   "execution_count": null,
   "id": "bbf9f647-0038-4a02-a654-3d68b416df66",
   "metadata": {},
   "outputs": [],
   "source": [
    "# Print a list of unique category names\n",
    "print(list(df['education'].unique()))\n",
    "\n",
    "# "
   ]
  },
  {
   "cell_type": "markdown",
   "id": "2f73544b-a572-4ccc-88fd-c88b056305a9",
   "metadata": {},
   "source": [
    "Returns: \\['HS-grad', 'Some-college', '7th-8th', '10th', 'Doctorate', 'Prof-school', 'Bachelors', 'Masters', '11th', 'Assoc-acdm', 'Assoc-voc', '1st-4th', '5th-6th', '12th', '9th', 'Preschool']\n",
    "\n",
    "Then, we can associate each of these categories with a numerical value, indicating an individual’s \"education level\". In Python, the easiest way to do this is to convert the variable to type 'category' using pandas.Categorical(). When converting a column to type 'category', we can also pass a list with the column’s categories (and True to the ordered parameter) to indicate the desired ordering."
   ]
  },
  {
   "cell_type": "code",
   "execution_count": null,
   "id": "62cee374-db96-4c46-a40f-e73b512be610",
   "metadata": {},
   "outputs": [],
   "source": [
    "correct_order = ['Preschool', '1st-4th', '5th-6th', '7th-8th', '9th', '10th', '11th', '12th', 'HS-grad', 'Some-college', 'Assoc-voc', 'Assoc-acdm', 'Bachelors', 'Masters', 'Prof-school', 'Doctorate']\n",
    "\n",
    "df['education'] = pd.Categorical(df['education'], correct_order, ordered=True)"
   ]
  },
  {
   "cell_type": "markdown",
   "id": "9e7b44e4-8e88-4038-ad0a-07fcd1df9a25",
   "metadata": {},
   "source": [
    "Variables stored as type category have an attribute (cat.codes) that converts the categories to numbers. This allows us to perform numerical operations on this categorical field. This allows us to calculate the median category using numpy’s median() function:"
   ]
  },
  {
   "cell_type": "code",
   "execution_count": null,
   "id": "b0201b53-81b0-4a9a-b122-886a4d20d8ed",
   "metadata": {},
   "outputs": [],
   "source": [
    "median_index = np.median(df['education'].cat.codes)\n",
    "print(median_index) # Output: 9\n",
    "\n",
    "median_category = correct_order[int(median_index)]\n",
    "print(median_category) # Output: Some college"
   ]
  },
  {
   "cell_type": "markdown",
   "id": "fd19ef17-9cd7-4433-a538-e27cf87729e2",
   "metadata": {},
   "source": [
    "By using .cat.codes on education, we’re able to calculate that the median value for education level is '9' which translates to 'Some college'.\n",
    "\n",
    "While we can represent these categories with equally spaced numbers, there’s not equal spacing between categories. Some gaps between educational attainment levels represent up to four additional years of schooling (e.g. '1st-4th' to '5th-6th'), while others represent a single additional year of schooling (e.g. from '9th' to '10th').\n",
    "\n",
    "When we use .cat.codes to translate these categories into integers, those integers have equal spacing. While translating categories to numbers is often necessary to store and use the order of the categories (for calculating a statistic like the median, which only relies on ordering, not spacing), we should not use those numbers to calculate statistics — such as the mean — for which the distance between values matters.\n",
    "\n",
    "In practice, researchers sometimes (albeit, incorrectly) report means for ordinal categories. For example, a researcher might want to analyze survey responses to the question \"Rate your happiness on a scale from 1 to 5 where 1 means 'very unhappy' and 5 means 'very happy'\".\n",
    "\n",
    "If that researcher calculates 'mean happiness score', they are assuming that the difference in happiness between a rating of 1 and 2 is the same as the difference in happiness for a rating of 3 and 4. In practice, this assumption is likely not true and should be acknowledged if reporting a mean of an ordinal categorical variable."
   ]
  },
  {
   "cell_type": "code",
   "execution_count": null,
   "id": "75dac5a4-1de2-4808-ae03-61d04808da79",
   "metadata": {},
   "outputs": [],
   "source": [
    "# Find the mean category\n",
    "mean_diam_cat = np.mean(nyc_trees['tree_diam_category'].cat.codes)"
   ]
  },
  {
   "cell_type": "markdown",
   "id": "29dc158d-cab2-441f-bb72-17572c55796c",
   "metadata": {},
   "source": [
    "### Spread\n",
    "\n",
    "the mean is not interpretable for ordinal categorical variables because the mean relies on the assumption of equal spacing between categories.\n",
    "\n",
    "Many other statistics we might normally use for numerical data rely on the mean. Because of this, these statistics aren’t appropriate for ordinal data. Remember that the standard deviation and variance both depend on the mean, without a mean, we can’t have a reliable standard deviation or variance either!\n",
    "\n",
    "Instead, we can rely on other summary statistics, like the proportion of the data within a range, or percentiles/quantiles. For example, consider the education variable from earlier. To calculate a range containing 80% of the data, we can use np.percentile():"
   ]
  },
  {
   "cell_type": "code",
   "execution_count": null,
   "id": "4529cd68-cebd-49a5-a7e5-a3f5a94f3f00",
   "metadata": {},
   "outputs": [],
   "source": [
    "tenth_perc_ind = np.percentile(df['education'].cat.codes, 10)\n",
    "tenth_perc_cat = correct_order[int(tenth_perc_ind)]\n",
    "print(tenth_perc_cat) # output: 11th\n",
    " \n",
    "nintieth_perc_ind = np.percentile(df['education'].cat.codes, 90)\n",
    "nintieth_perc_cat = correct_order[int(nintieth_perc_ind)]\n",
    "print(nintieth_perc_cat): #output: Bachelors"
   ]
  },
  {
   "cell_type": "markdown",
   "id": "44a9af02-75e8-4170-8d0c-15aa25c3bdc9",
   "metadata": {},
   "source": [
    "This tells us that at least 80% of respondents range in \"education level\" from 11th grade to a Bachelor’s degree."
   ]
  },
  {
   "cell_type": "markdown",
   "id": "8c8873c6-891f-4443-9858-9b8544e8cfd6",
   "metadata": {},
   "source": [
    "### Table of Proportions\n",
    "You’ve already seen that we can use the .value_counts() function to get a table of frequencies for a categorical variable. A table of frequencies is often the first approach a data scientist might use to summarize a categorical variable; however, it is sometimes useful to instead look at the proportion of values in each category.\n",
    "\n",
    "For example, knowing that there are 14976 people in the census dataset who are married to a civilian spouse is hard to interpret without the context of knowing the numbers in the other categories. Instead, if we know that 32% of the surveyed population is married to a civilian spouse, we have more context about the relative frequency of this category. We can calculate proportions by dividing the frequency by the number of observations in the data."
   ]
  },
  {
   "cell_type": "code",
   "execution_count": null,
   "id": "6d075dab-e823-4799-ba3c-f8046ce8b1ba",
   "metadata": {},
   "outputs": [],
   "source": [
    "df['education'].value_counts()/len(df['education'])"
   ]
  },
  {
   "cell_type": "markdown",
   "id": "cb54ed91-c49b-4c13-abf3-27a19daefe53",
   "metadata": {},
   "source": [
    "We can also calculate proportions using .value_counts() by setting the normalize parameter equal to True:"
   ]
  },
  {
   "cell_type": "code",
   "execution_count": null,
   "id": "9b6bd877-6b3c-4f0c-bb29-01809aa41fb1",
   "metadata": {},
   "outputs": [],
   "source": [
    "df['education'].value_counts(normalize = True).head()"
   ]
  },
  {
   "cell_type": "markdown",
   "id": "31cbf4ad-bf4d-443a-b8cf-d4ef78ba6700",
   "metadata": {},
   "source": [
    "#### Missing data\n",
    "\n",
    "One thing to keep in mind when calculating the proportion of data in a particular category: how are you dealing with missing data? For example, consider the workclass variable from the census data. This column contains 1836 missing values, coded as NaN. By default, those missing values are not counted by .value_counts().\n",
    "\n",
    "Therefore, the results of df\\['workclass'].value_counts()/len(df\\['workclass']) and df\\['workclass'].value_counts(normalize = True) will be slightly different. You can set the dropna parameter in .value_counts() to determine how NaN values are handled in summaries of data.\n",
    "\n",
    "When we divide the frequency of each category by len(df\\['workclass']), we’re calculating the proportion of a specific workclass group as a portion of all people in the dataset. This is equivalent to setting dropna = False in the call to value_counts()\n",
    "\n",
    "Note that if we don’t include the missing values in our denominator, we observe slightly larger proportions in each category (and no NaN category) in the above output. It is important to think about how you want to deal with missing data when summarizing a categorical variable and then interpret resulting values appropriately."
   ]
  },
  {
   "cell_type": "markdown",
   "id": "4088df91-f586-42ec-84cd-41fbd7fabb49",
   "metadata": {},
   "source": [
    "## Binary categorical variables\n",
    "\n",
    "These have only two categories – 0/1 or True and False. Makes it easy to calculate the proportion of these values in a dataset."
   ]
  },
  {
   "cell_type": "code",
   "execution_count": null,
   "id": "d3ea84df-e2d0-4e09-8483-7fa3d93709ec",
   "metadata": {},
   "outputs": [],
   "source": [
    "np.sum() # Counts the number of 1s (true) in a dataset.\n",
    "np.mean() # Calculates the proportion of 1s (true) in a dataset"
   ]
  },
  {
   "cell_type": "markdown",
   "id": "16d6dad5-3a8b-4ed9-86a8-ab3d1a203837",
   "metadata": {},
   "source": [
    "It's possible to make use of this by turning non-binary variables into binary variables."
   ]
  },
  {
   "cell_type": "code",
   "execution_count": null,
   "id": "5f6fe41d-1b37-4b10-a03d-b5d3fc5b2d86",
   "metadata": {},
   "outputs": [],
   "source": [
    "living_frequency = np.sum(nyc_trees.status == 'Alive')\n",
    "living_proportion = (nyc_trees.status == 'Alive').mean()"
   ]
  }
 ],
 "metadata": {
  "kernelspec": {
   "display_name": "Python 3 (ipykernel)",
   "language": "python",
   "name": "python3"
  },
  "language_info": {
   "codemirror_mode": {
    "name": "ipython",
    "version": 3
   },
   "file_extension": ".py",
   "mimetype": "text/x-python",
   "name": "python",
   "nbconvert_exporter": "python",
   "pygments_lexer": "ipython3",
   "version": "3.9.12"
  }
 },
 "nbformat": 4,
 "nbformat_minor": 5
}
