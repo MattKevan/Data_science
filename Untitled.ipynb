{
 "cells": [
  {
   "cell_type": "markdown",
   "id": "374a13e7-25d2-4635-8899-22c3ba345898",
   "metadata": {},
   "source": [
    "# Cleaning data\n",
    "\n",
    "'Tidy data' is easy to analyse and visualise.\n",
    "\n",
    "For data to be tidy, it must have:\n",
    "\n",
    "* Each variable as a separate column\n",
    "* Each row as a separate observation\n",
    "\n",
    "Explore dataset:\n",
    "\n",
    "* head() — display the first 5 rows of the table\n",
    "* info() — display a summary of the table\n",
    "* describe() — display the summary statistics of the table\n",
    "* columns — display the column names of the table\n",
    "* value_counts() — display the distinct values for a column"
   ]
  },
  {
   "cell_type": "markdown",
   "id": "75e451c3-8a16-4541-8975-ef7d9f105f04",
   "metadata": {},
   "source": [
    "## Multiple files with glob \n",
    "\n",
    "glob can open multiple files by using regex matching to get the filenames."
   ]
  },
  {
   "cell_type": "code",
   "execution_count": null,
   "id": "f83260ed-0c34-4f67-834a-188d27285a4e",
   "metadata": {},
   "outputs": [],
   "source": [
    "import glob\n",
    "\n",
    "files = glob.glob(\"file*.csv\")\n",
    "\n",
    "df_list = []\n",
    "for filename in files:\n",
    "  data = pd.read_csv(filename)\n",
    "  df_list.append(data)\n",
    "\n",
    "df = pd.concat(df_list)\n",
    "\n",
    "print(files)"
   ]
  },
  {
   "cell_type": "markdown",
   "id": "2d010eb2-9778-4de8-9d95-fd08c5471a9a",
   "metadata": {},
   "source": [
    "This code goes through any file that starts with 'file' and has an extension of .csv. It opens each file, reads the data into a DataFrame, and then concatenates all of those DataFrames together."
   ]
  },
  {
   "cell_type": "code",
   "execution_count": null,
   "id": "da342631-0fb7-4a0a-af47-c25b94182133",
   "metadata": {},
   "outputs": [],
   "source": [
    "# Drop rows with a missing value\n",
    "bill_df = bill_df.dropna()\n",
    "\n",
    "bill_df = bill_df.dropna(subset=['num_guests'])\n",
    "# Drop rows with missing values in a particular column"
   ]
  },
  {
   "cell_type": "code",
   "execution_count": null,
   "id": "0b691f17-1a3a-4c80-9945-3ac71485d582",
   "metadata": {},
   "outputs": [],
   "source": [
    "bill_df = bill_df.fillna(value={\"bill\":0})\n",
    "# Fills missing values in bill with 0\n",
    "\n",
    "students.score = students.score.fillna(0)\n",
    "\n",
    "bill_df = bill_df.fillna(value={\"bill\":bill_df.bill.mean()})\n",
    "# Fills missing values in the bill column with the average of the bill column."
   ]
  },
  {
   "cell_type": "code",
   "execution_count": null,
   "id": "7a1ba005-0f18-4588-919e-c1ce9160e2d1",
   "metadata": {},
   "outputs": [],
   "source": []
  },
  {
   "cell_type": "code",
   "execution_count": null,
   "id": "485cbec9-0517-4324-bafe-fa7b47ca9b83",
   "metadata": {},
   "outputs": [],
   "source": []
  }
 ],
 "metadata": {
  "kernelspec": {
   "display_name": "Python 3 (ipykernel)",
   "language": "python",
   "name": "python3"
  },
  "language_info": {
   "codemirror_mode": {
    "name": "ipython",
    "version": 3
   },
   "file_extension": ".py",
   "mimetype": "text/x-python",
   "name": "python",
   "nbconvert_exporter": "python",
   "pygments_lexer": "ipython3",
   "version": "3.9.12"
  }
 },
 "nbformat": 4,
 "nbformat_minor": 5
}
